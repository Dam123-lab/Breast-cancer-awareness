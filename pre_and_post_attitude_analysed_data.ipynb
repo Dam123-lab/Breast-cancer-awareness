{
 "cells": [
  {
   "cell_type": "markdown",
   "id": "68bf10e0-9f8b-47b7-9e4d-13bcfa05e7fb",
   "metadata": {},
   "source": [
    "Effect of educational intervention on breast cancer prevention"
   ]
  },
  {
   "cell_type": "markdown",
   "id": "c0bad31c-dec6-4871-99db-c4d1e244a8d8",
   "metadata": {},
   "source": [
    "In recent times, nutrition has played a more significant role in understanding the causes of breast cancer. Therefore,focusing on nutrition-related factors linked to breast cancer risk or prevention could serve as a crucial intervention for breast cancer prevention. This project examined participants' attitude towards breast cancer prevention. The study was conducted in two segments. First, the participants' current nutrition-related attitude was assessed. Then, an educational intervention about breast cancer prevention was carried out. After the intervention, participants were re-evaluated to assess the impact of the nutrition education on their attitude. This study compared participants' attitude before and after the educational intervention and analyzed influencing factors using a chi-square test."
   ]
  },
  {
   "cell_type": "code",
   "execution_count": 1,
   "id": "412583a4-8039-4725-8959-fa550d245f31",
   "metadata": {},
   "outputs": [],
   "source": [
    "import pandas as pd"
   ]
  },
  {
   "cell_type": "markdown",
   "id": "8ab53d8b-dbdb-4b8d-8614-78cf41ad4eab",
   "metadata": {},
   "source": [
    "loading the dataset and viewing the first five rows"
   ]
  },
  {
   "cell_type": "code",
   "execution_count": 2,
   "id": "eafa3cb6-47e2-4c1d-b056-d5508ac7f091",
   "metadata": {},
   "outputs": [
    {
     "data": {
      "text/html": [
       "<div>\n",
       "<style scoped>\n",
       "    .dataframe tbody tr th:only-of-type {\n",
       "        vertical-align: middle;\n",
       "    }\n",
       "\n",
       "    .dataframe tbody tr th {\n",
       "        vertical-align: top;\n",
       "    }\n",
       "\n",
       "    .dataframe thead th {\n",
       "        text-align: right;\n",
       "    }\n",
       "</style>\n",
       "<table border=\"1\" class=\"dataframe\">\n",
       "  <thead>\n",
       "    <tr style=\"text-align: right;\">\n",
       "      <th></th>\n",
       "      <th>Age</th>\n",
       "      <th>Marital Status</th>\n",
       "      <th>Religion</th>\n",
       "      <th>Ethnicity</th>\n",
       "      <th>Faculty</th>\n",
       "      <th>level</th>\n",
       "      <th>Permanent residence</th>\n",
       "      <th>Family degree of breast cancer</th>\n",
       "      <th>Do you belief regular consumption of vegetable can reduce risk of breast cancer?</th>\n",
       "      <th>\\tDo you belief regular consumption of fruit can reduce the risk of breast cancer?</th>\n",
       "      <th>\\tDo you belief breastfeeding can reduce the risk of breast cancer?</th>\n",
       "      <th>\\tDo you belief that consumption of healthy diet can reduce the risk of breast?</th>\n",
       "      <th>\\tDo you belief avoidance of smoking can reduce the risk of breast cancer?</th>\n",
       "      <th>\\tDo you believe that maternal nutrition during pregnancy can increase daughter risk of breast cancer in the future?</th>\n",
       "      <th>\\tDo you belief that father nutrition during preconception can increase daughter risk of breast cancer in the future?</th>\n",
       "      <th>Do you believe that alcohol consumption can increase the risk of breast cancer?</th>\n",
       "      <th>Do you believe frequent physical exercise can reduce the risk of breast cancer?</th>\n",
       "      <th>Do you believe maintaining a healthy weight can reduce the risk of breast cancer?</th>\n",
       "    </tr>\n",
       "  </thead>\n",
       "  <tbody>\n",
       "    <tr>\n",
       "      <th>0</th>\n",
       "      <td>22</td>\n",
       "      <td>Single</td>\n",
       "      <td>Muslim</td>\n",
       "      <td>Yoruba</td>\n",
       "      <td>Agriculture</td>\n",
       "      <td>300</td>\n",
       "      <td>Rural</td>\n",
       "      <td>No family history</td>\n",
       "      <td>I agree</td>\n",
       "      <td>I don’t know</td>\n",
       "      <td>I don’t know</td>\n",
       "      <td>I don’t know</td>\n",
       "      <td>I agree</td>\n",
       "      <td>I disagree</td>\n",
       "      <td>I disagree</td>\n",
       "      <td>I agree</td>\n",
       "      <td>I agree</td>\n",
       "      <td>I don't know</td>\n",
       "    </tr>\n",
       "    <tr>\n",
       "      <th>1</th>\n",
       "      <td>19</td>\n",
       "      <td>Single</td>\n",
       "      <td>Muslim</td>\n",
       "      <td>Yoruba</td>\n",
       "      <td>Agriculture</td>\n",
       "      <td>300</td>\n",
       "      <td>Urban</td>\n",
       "      <td>No family history</td>\n",
       "      <td>I agree</td>\n",
       "      <td>I agree</td>\n",
       "      <td>I strongly agree</td>\n",
       "      <td>I strongly agree</td>\n",
       "      <td>I agree</td>\n",
       "      <td>I don’t know</td>\n",
       "      <td>I strongly disagree</td>\n",
       "      <td>I agree</td>\n",
       "      <td>I strongly agree</td>\n",
       "      <td>I agree</td>\n",
       "    </tr>\n",
       "    <tr>\n",
       "      <th>2</th>\n",
       "      <td>20</td>\n",
       "      <td>Single</td>\n",
       "      <td>Christian</td>\n",
       "      <td>Yoruba</td>\n",
       "      <td>Agriculture</td>\n",
       "      <td>200</td>\n",
       "      <td>Rural</td>\n",
       "      <td>No family history</td>\n",
       "      <td>I don't know</td>\n",
       "      <td>I agree</td>\n",
       "      <td>I don’t know</td>\n",
       "      <td>I agree</td>\n",
       "      <td>I strongly agree</td>\n",
       "      <td>I agree</td>\n",
       "      <td>I disagree</td>\n",
       "      <td>I agree</td>\n",
       "      <td>I don't know</td>\n",
       "      <td>I don't know</td>\n",
       "    </tr>\n",
       "    <tr>\n",
       "      <th>3</th>\n",
       "      <td>22</td>\n",
       "      <td>Others</td>\n",
       "      <td>Christian</td>\n",
       "      <td>Yoruba</td>\n",
       "      <td>Agriculture</td>\n",
       "      <td>300</td>\n",
       "      <td>Urban</td>\n",
       "      <td>No family history</td>\n",
       "      <td>I agree</td>\n",
       "      <td>I agree</td>\n",
       "      <td>I strongly agree</td>\n",
       "      <td>I strongly agree</td>\n",
       "      <td>I strongly agree</td>\n",
       "      <td>I don’t know</td>\n",
       "      <td>I don’t know</td>\n",
       "      <td>I strongly agree</td>\n",
       "      <td>I agree</td>\n",
       "      <td>I agree</td>\n",
       "    </tr>\n",
       "    <tr>\n",
       "      <th>4</th>\n",
       "      <td>21</td>\n",
       "      <td>Single</td>\n",
       "      <td>Christian</td>\n",
       "      <td>Yoruba</td>\n",
       "      <td>Agriculture</td>\n",
       "      <td>300</td>\n",
       "      <td>Urban</td>\n",
       "      <td>No family history</td>\n",
       "      <td>I agree</td>\n",
       "      <td>I agree</td>\n",
       "      <td>I agree</td>\n",
       "      <td>I agree</td>\n",
       "      <td>I strongly agree</td>\n",
       "      <td>I disagree</td>\n",
       "      <td>I don’t know</td>\n",
       "      <td>I agree</td>\n",
       "      <td>I agree</td>\n",
       "      <td>I don't know</td>\n",
       "    </tr>\n",
       "  </tbody>\n",
       "</table>\n",
       "</div>"
      ],
      "text/plain": [
       "   Age Marital Status    Religion Ethnicity       Faculty  level  \\\n",
       "0   22         Single      Muslim    Yoruba  Agriculture     300   \n",
       "1   19         Single      Muslim    Yoruba  Agriculture     300   \n",
       "2   20         Single   Christian    Yoruba  Agriculture     200   \n",
       "3   22         Others   Christian    Yoruba   Agriculture    300   \n",
       "4   21         Single   Christian    Yoruba  Agriculture     300   \n",
       "\n",
       "  Permanent residence Family degree of breast cancer  \\\n",
       "0               Rural              No family history   \n",
       "1               Urban              No family history   \n",
       "2               Rural              No family history   \n",
       "3               Urban              No family history   \n",
       "4               Urban              No family history   \n",
       "\n",
       "  Do you belief regular consumption of vegetable can reduce risk of breast cancer?  \\\n",
       "0                                            I agree                                 \n",
       "1                                            I agree                                 \n",
       "2                                       I don't know                                 \n",
       "3                                            I agree                                 \n",
       "4                                            I agree                                 \n",
       "\n",
       "  \\tDo you belief regular consumption of fruit can reduce the risk of breast cancer?  \\\n",
       "0                                       I don’t know                                   \n",
       "1                                            I agree                                   \n",
       "2                                            I agree                                   \n",
       "3                                            I agree                                   \n",
       "4                                            I agree                                   \n",
       "\n",
       "  \\tDo you belief breastfeeding can reduce the risk of breast cancer?  \\\n",
       "0                                       I don’t know                    \n",
       "1                                   I strongly agree                    \n",
       "2                                       I don’t know                    \n",
       "3                                   I strongly agree                    \n",
       "4                                            I agree                    \n",
       "\n",
       "  \\tDo you belief that consumption of healthy diet can reduce the risk of breast?  \\\n",
       "0                                       I don’t know                                \n",
       "1                                   I strongly agree                                \n",
       "2                                            I agree                                \n",
       "3                                   I strongly agree                                \n",
       "4                                            I agree                                \n",
       "\n",
       "  \\tDo you belief avoidance of smoking can reduce the risk of breast cancer?  \\\n",
       "0                                            I agree                           \n",
       "1                                            I agree                           \n",
       "2                                   I strongly agree                           \n",
       "3                                   I strongly agree                           \n",
       "4                                   I strongly agree                           \n",
       "\n",
       "  \\tDo you believe that maternal nutrition during pregnancy can increase daughter risk of breast cancer in the future?  \\\n",
       "0                                         I disagree                                                                     \n",
       "1                                       I don’t know                                                                     \n",
       "2                                            I agree                                                                     \n",
       "3                                       I don’t know                                                                     \n",
       "4                                         I disagree                                                                     \n",
       "\n",
       "  \\tDo you belief that father nutrition during preconception can increase daughter risk of breast cancer in the future?  \\\n",
       "0                                         I disagree                                                                      \n",
       "1                                I strongly disagree                                                                      \n",
       "2                                         I disagree                                                                      \n",
       "3                                       I don’t know                                                                      \n",
       "4                                       I don’t know                                                                      \n",
       "\n",
       "  Do you believe that alcohol consumption can increase the risk of breast cancer?  \\\n",
       "0                                            I agree                                \n",
       "1                                            I agree                                \n",
       "2                                            I agree                                \n",
       "3                                   I strongly agree                                \n",
       "4                                            I agree                                \n",
       "\n",
       "  Do you believe frequent physical exercise can reduce the risk of breast cancer?  \\\n",
       "0                                            I agree                                \n",
       "1                                   I strongly agree                                \n",
       "2                                       I don't know                                \n",
       "3                                            I agree                                \n",
       "4                                            I agree                                \n",
       "\n",
       "  Do you believe maintaining a healthy weight can reduce the risk of breast cancer?  \n",
       "0                                       I don't know                                 \n",
       "1                                            I agree                                 \n",
       "2                                       I don't know                                 \n",
       "3                                            I agree                                 \n",
       "4                                       I don't know                                 "
      ]
     },
     "execution_count": 2,
     "metadata": {},
     "output_type": "execute_result"
    }
   ],
   "source": [
    "pre_attitude=pd.read_csv('Attitude-preseminar.csv',delimiter=';')\n",
    "pre_attitude.head()"
   ]
  },
  {
   "cell_type": "code",
   "execution_count": 3,
   "id": "b1384e8e-c6f5-43d8-9ddc-df5887f8aefa",
   "metadata": {},
   "outputs": [],
   "source": [
    "pre_attitude.columns=pre_attitude.columns.str.strip()"
   ]
  },
  {
   "cell_type": "markdown",
   "id": "1a5a28dc-6607-4d02-a72e-fbb58ff7d863",
   "metadata": {},
   "source": [
    "concatenating all the dependent variables"
   ]
  },
  {
   "cell_type": "code",
   "execution_count": 4,
   "id": "6caa60c5-bdfb-421f-860d-8bd37d215044",
   "metadata": {},
   "outputs": [],
   "source": [
    "columns=['Do you belief regular consumption of vegetable can reduce risk of breast cancer?','Do you belief regular consumption of fruit can reduce the risk of breast cancer?','Do you belief breastfeeding can reduce the risk of breast cancer?','Do you belief that consumption of healthy diet can reduce the risk of breast?','Do you belief avoidance of smoking can reduce the risk of breast cancer?','Do you believe that maternal nutrition during pregnancy can increase daughter risk of breast cancer in the future?','Do you belief that father nutrition during preconception can increase daughter risk of breast cancer in the future?','Do you believe that alcohol consumption can increase the risk of breast cancer?','Do you believe frequent physical exercise can reduce the risk of breast cancer?','Do you believe maintaining a healthy weight can reduce the risk of breast cancer?']"
   ]
  },
  {
   "cell_type": "code",
   "execution_count": 5,
   "id": "a610bd4d-f5f8-4f50-babe-3998acf5ca43",
   "metadata": {},
   "outputs": [
    {
     "data": {
      "text/html": [
       "<div>\n",
       "<style scoped>\n",
       "    .dataframe tbody tr th:only-of-type {\n",
       "        vertical-align: middle;\n",
       "    }\n",
       "\n",
       "    .dataframe tbody tr th {\n",
       "        vertical-align: top;\n",
       "    }\n",
       "\n",
       "    .dataframe thead th {\n",
       "        text-align: right;\n",
       "    }\n",
       "</style>\n",
       "<table border=\"1\" class=\"dataframe\">\n",
       "  <thead>\n",
       "    <tr style=\"text-align: right;\">\n",
       "      <th></th>\n",
       "      <th>Do you belief regular consumption of vegetable can reduce risk of breast cancer?</th>\n",
       "      <th>Do you belief regular consumption of fruit can reduce the risk of breast cancer?</th>\n",
       "      <th>Do you belief breastfeeding can reduce the risk of breast cancer?</th>\n",
       "      <th>Do you belief that consumption of healthy diet can reduce the risk of breast?</th>\n",
       "      <th>Do you belief avoidance of smoking can reduce the risk of breast cancer?</th>\n",
       "      <th>Do you believe that maternal nutrition during pregnancy can increase daughter risk of breast cancer in the future?</th>\n",
       "      <th>Do you belief that father nutrition during preconception can increase daughter risk of breast cancer in the future?</th>\n",
       "      <th>Do you believe that alcohol consumption can increase the risk of breast cancer?</th>\n",
       "      <th>Do you believe frequent physical exercise can reduce the risk of breast cancer?</th>\n",
       "      <th>Do you believe maintaining a healthy weight can reduce the risk of breast cancer?</th>\n",
       "    </tr>\n",
       "  </thead>\n",
       "  <tbody>\n",
       "    <tr>\n",
       "      <th>0</th>\n",
       "      <td>I agree</td>\n",
       "      <td>I don’t know</td>\n",
       "      <td>I don’t know</td>\n",
       "      <td>I don’t know</td>\n",
       "      <td>I agree</td>\n",
       "      <td>I disagree</td>\n",
       "      <td>I disagree</td>\n",
       "      <td>I agree</td>\n",
       "      <td>I agree</td>\n",
       "      <td>I don't know</td>\n",
       "    </tr>\n",
       "    <tr>\n",
       "      <th>1</th>\n",
       "      <td>I agree</td>\n",
       "      <td>I agree</td>\n",
       "      <td>I strongly agree</td>\n",
       "      <td>I strongly agree</td>\n",
       "      <td>I agree</td>\n",
       "      <td>I don’t know</td>\n",
       "      <td>I strongly disagree</td>\n",
       "      <td>I agree</td>\n",
       "      <td>I strongly agree</td>\n",
       "      <td>I agree</td>\n",
       "    </tr>\n",
       "  </tbody>\n",
       "</table>\n",
       "</div>"
      ],
      "text/plain": [
       "  Do you belief regular consumption of vegetable can reduce risk of breast cancer?  \\\n",
       "0                                            I agree                                 \n",
       "1                                            I agree                                 \n",
       "\n",
       "  Do you belief regular consumption of fruit can reduce the risk of breast cancer?  \\\n",
       "0                                       I don’t know                                 \n",
       "1                                            I agree                                 \n",
       "\n",
       "  Do you belief breastfeeding can reduce the risk of breast cancer?  \\\n",
       "0                                       I don’t know                  \n",
       "1                                   I strongly agree                  \n",
       "\n",
       "  Do you belief that consumption of healthy diet can reduce the risk of breast?  \\\n",
       "0                                       I don’t know                              \n",
       "1                                   I strongly agree                              \n",
       "\n",
       "  Do you belief avoidance of smoking can reduce the risk of breast cancer?  \\\n",
       "0                                            I agree                         \n",
       "1                                            I agree                         \n",
       "\n",
       "  Do you believe that maternal nutrition during pregnancy can increase daughter risk of breast cancer in the future?  \\\n",
       "0                                         I disagree                                                                   \n",
       "1                                       I don’t know                                                                   \n",
       "\n",
       "  Do you belief that father nutrition during preconception can increase daughter risk of breast cancer in the future?  \\\n",
       "0                                         I disagree                                                                    \n",
       "1                                I strongly disagree                                                                    \n",
       "\n",
       "  Do you believe that alcohol consumption can increase the risk of breast cancer?  \\\n",
       "0                                            I agree                                \n",
       "1                                            I agree                                \n",
       "\n",
       "  Do you believe frequent physical exercise can reduce the risk of breast cancer?  \\\n",
       "0                                            I agree                                \n",
       "1                                   I strongly agree                                \n",
       "\n",
       "  Do you believe maintaining a healthy weight can reduce the risk of breast cancer?  \n",
       "0                                       I don't know                                 \n",
       "1                                            I agree                                 "
      ]
     },
     "execution_count": 5,
     "metadata": {},
     "output_type": "execute_result"
    }
   ],
   "source": [
    "attitude_pre=pd.concat([pre_attitude[col] for col in columns],axis=1)\n",
    "attitude_pre.head(2)"
   ]
  },
  {
   "cell_type": "markdown",
   "id": "e2eea6fd-5bbf-4e7e-9315-f5802381250c",
   "metadata": {},
   "source": [
    "Calculating the correct responses"
   ]
  },
  {
   "cell_type": "code",
   "execution_count": 6,
   "id": "ee61939c-37b1-4953-a15b-a8c4e51156d8",
   "metadata": {},
   "outputs": [],
   "source": [
    "valid_responses = ['I strongly agree', 'I agree']"
   ]
  },
  {
   "cell_type": "markdown",
   "id": "25f8cee4-4058-4b44-8a17-c23774a56c7d",
   "metadata": {},
   "source": [
    "calculating the total sum of the dependent variables"
   ]
  },
  {
   "cell_type": "code",
   "execution_count": 7,
   "id": "292c329f-8222-4926-b8fc-a3f3cde9d61e",
   "metadata": {},
   "outputs": [],
   "source": [
    "filtered_responses = pre_attitude.apply(lambda col: col.map(lambda x: 1 if x in valid_responses else 0))\n",
    "respondent_totals = filtered_responses.sum(axis=1)\n",
    "question_totals = filtered_responses.sum(axis=0)\n",
    "total_correct_answers = filtered_responses.values.sum()"
   ]
  },
  {
   "cell_type": "code",
   "execution_count": 8,
   "id": "6b1cc8a6-1081-45fb-af2a-1cf449cbfed8",
   "metadata": {},
   "outputs": [
    {
     "name": "stdout",
     "output_type": "stream",
     "text": [
      "Correct answers per respondent:\n",
      " 0       4\n",
      "1       8\n",
      "2       5\n",
      "3       8\n",
      "4       7\n",
      "       ..\n",
      "145     8\n",
      "146     6\n",
      "147     7\n",
      "148     8\n",
      "149    10\n",
      "Length: 150, dtype: int64\n"
     ]
    }
   ],
   "source": [
    "print(\"Correct answers per respondent:\\n\", respondent_totals)"
   ]
  },
  {
   "cell_type": "code",
   "execution_count": 9,
   "id": "a92da30c-848f-499c-8576-2ce7c9a73c2e",
   "metadata": {},
   "outputs": [],
   "source": [
    "attitude_pre['score'] = respondent_totals"
   ]
  },
  {
   "cell_type": "code",
   "execution_count": 10,
   "id": "7ee13f40-a799-4942-9251-c27b8f8022e4",
   "metadata": {},
   "outputs": [],
   "source": [
    "#categorizing the level of attitude for each participant\n",
    "def categorize_attitude(score):\n",
    "    if score >= 7:\n",
    "        return \"High\"\n",
    "    elif 4 <= score <= 6:\n",
    "        return \"Moderate\"\n",
    "    else:\n",
    "        return \"Low\""
   ]
  },
  {
   "cell_type": "code",
   "execution_count": 11,
   "id": "a948dbab-0326-4faf-8911-c0d9305f4f81",
   "metadata": {},
   "outputs": [
    {
     "data": {
      "text/html": [
       "<div>\n",
       "<style scoped>\n",
       "    .dataframe tbody tr th:only-of-type {\n",
       "        vertical-align: middle;\n",
       "    }\n",
       "\n",
       "    .dataframe tbody tr th {\n",
       "        vertical-align: top;\n",
       "    }\n",
       "\n",
       "    .dataframe thead th {\n",
       "        text-align: right;\n",
       "    }\n",
       "</style>\n",
       "<table border=\"1\" class=\"dataframe\">\n",
       "  <thead>\n",
       "    <tr style=\"text-align: right;\">\n",
       "      <th></th>\n",
       "      <th>attitude_level_1</th>\n",
       "    </tr>\n",
       "  </thead>\n",
       "  <tbody>\n",
       "    <tr>\n",
       "      <th>0</th>\n",
       "      <td>Moderate</td>\n",
       "    </tr>\n",
       "    <tr>\n",
       "      <th>1</th>\n",
       "      <td>High</td>\n",
       "    </tr>\n",
       "    <tr>\n",
       "      <th>2</th>\n",
       "      <td>Moderate</td>\n",
       "    </tr>\n",
       "    <tr>\n",
       "      <th>3</th>\n",
       "      <td>High</td>\n",
       "    </tr>\n",
       "    <tr>\n",
       "      <th>4</th>\n",
       "      <td>High</td>\n",
       "    </tr>\n",
       "  </tbody>\n",
       "</table>\n",
       "</div>"
      ],
      "text/plain": [
       "  attitude_level_1\n",
       "0         Moderate\n",
       "1             High\n",
       "2         Moderate\n",
       "3             High\n",
       "4             High"
      ]
     },
     "execution_count": 11,
     "metadata": {},
     "output_type": "execute_result"
    }
   ],
   "source": [
    "attitude_pre['attitude_level_1'] = attitude_pre['score'].apply(categorize_attitude)\n",
    "attitude_pre[['attitude_level_1']].head()"
   ]
  },
  {
   "cell_type": "markdown",
   "id": "f1495f87-3ced-4cb0-b264-0f3db3546005",
   "metadata": {},
   "source": [
    "concatenating the independent variables"
   ]
  },
  {
   "cell_type": "code",
   "execution_count": 12,
   "id": "dc2a99b7-cc0b-42dd-a83a-614a52875099",
   "metadata": {},
   "outputs": [],
   "source": [
    "columns_1=['Age','Marital Status','Religion','Ethnicity','Faculty','level','Permanent residence','Family degree of breast cancer']"
   ]
  },
  {
   "cell_type": "code",
   "execution_count": 13,
   "id": "71a17b2a-07fa-4fce-b9f1-3000a498d22c",
   "metadata": {},
   "outputs": [
    {
     "data": {
      "text/html": [
       "<div>\n",
       "<style scoped>\n",
       "    .dataframe tbody tr th:only-of-type {\n",
       "        vertical-align: middle;\n",
       "    }\n",
       "\n",
       "    .dataframe tbody tr th {\n",
       "        vertical-align: top;\n",
       "    }\n",
       "\n",
       "    .dataframe thead th {\n",
       "        text-align: right;\n",
       "    }\n",
       "</style>\n",
       "<table border=\"1\" class=\"dataframe\">\n",
       "  <thead>\n",
       "    <tr style=\"text-align: right;\">\n",
       "      <th></th>\n",
       "      <th>Age</th>\n",
       "      <th>Marital Status</th>\n",
       "      <th>Religion</th>\n",
       "      <th>Ethnicity</th>\n",
       "      <th>Faculty</th>\n",
       "      <th>level</th>\n",
       "      <th>Permanent residence</th>\n",
       "      <th>Family degree of breast cancer</th>\n",
       "    </tr>\n",
       "  </thead>\n",
       "  <tbody>\n",
       "    <tr>\n",
       "      <th>0</th>\n",
       "      <td>22</td>\n",
       "      <td>Single</td>\n",
       "      <td>Muslim</td>\n",
       "      <td>Yoruba</td>\n",
       "      <td>Agriculture</td>\n",
       "      <td>300</td>\n",
       "      <td>Rural</td>\n",
       "      <td>No family history</td>\n",
       "    </tr>\n",
       "    <tr>\n",
       "      <th>1</th>\n",
       "      <td>19</td>\n",
       "      <td>Single</td>\n",
       "      <td>Muslim</td>\n",
       "      <td>Yoruba</td>\n",
       "      <td>Agriculture</td>\n",
       "      <td>300</td>\n",
       "      <td>Urban</td>\n",
       "      <td>No family history</td>\n",
       "    </tr>\n",
       "  </tbody>\n",
       "</table>\n",
       "</div>"
      ],
      "text/plain": [
       "   Age Marital Status Religion Ethnicity       Faculty  level  \\\n",
       "0   22         Single   Muslim    Yoruba  Agriculture     300   \n",
       "1   19         Single   Muslim    Yoruba  Agriculture     300   \n",
       "\n",
       "  Permanent residence Family degree of breast cancer  \n",
       "0               Rural              No family history  \n",
       "1               Urban              No family history  "
      ]
     },
     "execution_count": 13,
     "metadata": {},
     "output_type": "execute_result"
    }
   ],
   "source": [
    "demographics=pd.concat([pre_attitude[col] for col in columns_1], axis=1)\n",
    "demographics.head(2)"
   ]
  },
  {
   "cell_type": "code",
   "execution_count": 14,
   "id": "bb688329-58b1-4d9c-962d-dfdd59006442",
   "metadata": {},
   "outputs": [
    {
     "data": {
      "text/html": [
       "<div>\n",
       "<style scoped>\n",
       "    .dataframe tbody tr th:only-of-type {\n",
       "        vertical-align: middle;\n",
       "    }\n",
       "\n",
       "    .dataframe tbody tr th {\n",
       "        vertical-align: top;\n",
       "    }\n",
       "\n",
       "    .dataframe thead th {\n",
       "        text-align: right;\n",
       "    }\n",
       "</style>\n",
       "<table border=\"1\" class=\"dataframe\">\n",
       "  <thead>\n",
       "    <tr style=\"text-align: right;\">\n",
       "      <th></th>\n",
       "      <th>Age</th>\n",
       "      <th>Marital Status</th>\n",
       "      <th>Religion</th>\n",
       "      <th>Ethnicity</th>\n",
       "      <th>Faculty</th>\n",
       "      <th>level</th>\n",
       "      <th>Permanent residence</th>\n",
       "      <th>Family degree of breast cancer</th>\n",
       "      <th>attitude_level_1</th>\n",
       "    </tr>\n",
       "  </thead>\n",
       "  <tbody>\n",
       "    <tr>\n",
       "      <th>0</th>\n",
       "      <td>22</td>\n",
       "      <td>Single</td>\n",
       "      <td>Muslim</td>\n",
       "      <td>Yoruba</td>\n",
       "      <td>Agriculture</td>\n",
       "      <td>300</td>\n",
       "      <td>Rural</td>\n",
       "      <td>No family history</td>\n",
       "      <td>Moderate</td>\n",
       "    </tr>\n",
       "    <tr>\n",
       "      <th>1</th>\n",
       "      <td>19</td>\n",
       "      <td>Single</td>\n",
       "      <td>Muslim</td>\n",
       "      <td>Yoruba</td>\n",
       "      <td>Agriculture</td>\n",
       "      <td>300</td>\n",
       "      <td>Urban</td>\n",
       "      <td>No family history</td>\n",
       "      <td>High</td>\n",
       "    </tr>\n",
       "  </tbody>\n",
       "</table>\n",
       "</div>"
      ],
      "text/plain": [
       "   Age Marital Status Religion Ethnicity       Faculty  level  \\\n",
       "0   22         Single   Muslim    Yoruba  Agriculture     300   \n",
       "1   19         Single   Muslim    Yoruba  Agriculture     300   \n",
       "\n",
       "  Permanent residence Family degree of breast cancer attitude_level_1  \n",
       "0               Rural              No family history         Moderate  \n",
       "1               Urban              No family history             High  "
      ]
     },
     "execution_count": 14,
     "metadata": {},
     "output_type": "execute_result"
    }
   ],
   "source": [
    "#concatenating independent and dependent variables\n",
    "overall_data=pd.concat([demographics,attitude_pre['attitude_level_1']],axis=1)\n",
    "overall_data.head(2)"
   ]
  },
  {
   "cell_type": "code",
   "execution_count": 15,
   "id": "ca2d6de6-b8ad-4c62-a8d4-3379fd151351",
   "metadata": {},
   "outputs": [
    {
     "data": {
      "text/html": [
       "<div>\n",
       "<style scoped>\n",
       "    .dataframe tbody tr th:only-of-type {\n",
       "        vertical-align: middle;\n",
       "    }\n",
       "\n",
       "    .dataframe tbody tr th {\n",
       "        vertical-align: top;\n",
       "    }\n",
       "\n",
       "    .dataframe thead th {\n",
       "        text-align: right;\n",
       "    }\n",
       "</style>\n",
       "<table border=\"1\" class=\"dataframe\">\n",
       "  <thead>\n",
       "    <tr style=\"text-align: right;\">\n",
       "      <th></th>\n",
       "      <th>Age</th>\n",
       "      <th>Marital Status</th>\n",
       "      <th>Religion</th>\n",
       "      <th>Ethnicity</th>\n",
       "      <th>Faculty</th>\n",
       "      <th>Level</th>\n",
       "      <th>Permanent residence</th>\n",
       "      <th>Family degree of breast cancer</th>\n",
       "      <th>Can regular consumption of vegetable reduce breast cancer risk?</th>\n",
       "      <th>Can regular consumption of fruit reduce breast cancer risk?</th>\n",
       "      <th>Can breastfeeding reduce breast cancer risk?</th>\n",
       "      <th>Can consumption of healthy diet reduce breast cancer risk?</th>\n",
       "      <th>Can avoidance of smoking reduce breast cancer risk?</th>\n",
       "      <th>Can maternal nutrition during pregnancy  impact daughter risk of breast cancer in the future?</th>\n",
       "      <th>Can paternal nutrition during preconception  increase daughter risk of breast cancer in the future?</th>\n",
       "      <th>Can alcohol consumption  increase breast cancer risk?</th>\n",
       "      <th>Can doing regular physical exercise reduce breast cancer risk?</th>\n",
       "      <th>Can maintaining healthy weight reduce breast cancer risk?</th>\n",
       "    </tr>\n",
       "  </thead>\n",
       "  <tbody>\n",
       "    <tr>\n",
       "      <th>0</th>\n",
       "      <td>22</td>\n",
       "      <td>Single</td>\n",
       "      <td>Muslim</td>\n",
       "      <td>Yoruba</td>\n",
       "      <td>Agriculture</td>\n",
       "      <td>300</td>\n",
       "      <td>Rural</td>\n",
       "      <td>No family history</td>\n",
       "      <td>I strongly agree</td>\n",
       "      <td>I strongly agree</td>\n",
       "      <td>I strongly agree</td>\n",
       "      <td>I strongly agree</td>\n",
       "      <td>I strongly agree</td>\n",
       "      <td>I disagree</td>\n",
       "      <td>I disagree</td>\n",
       "      <td>I strongly agree</td>\n",
       "      <td>I strongly agree</td>\n",
       "      <td>I strongly agree</td>\n",
       "    </tr>\n",
       "    <tr>\n",
       "      <th>1</th>\n",
       "      <td>19</td>\n",
       "      <td>Single</td>\n",
       "      <td>Muslim</td>\n",
       "      <td>Yoruba</td>\n",
       "      <td>Agriculture</td>\n",
       "      <td>300</td>\n",
       "      <td>Urban</td>\n",
       "      <td>No family history</td>\n",
       "      <td>I strongly agree</td>\n",
       "      <td>I strongly agree</td>\n",
       "      <td>I strongly agree</td>\n",
       "      <td>I strongly agree</td>\n",
       "      <td>I strongly agree</td>\n",
       "      <td>I strongly agree</td>\n",
       "      <td>I strongly agree</td>\n",
       "      <td>I strongly agree</td>\n",
       "      <td>I strongly agree</td>\n",
       "      <td>I strongly agree</td>\n",
       "    </tr>\n",
       "  </tbody>\n",
       "</table>\n",
       "</div>"
      ],
      "text/plain": [
       "   Age Marital Status  Religion Ethnicity       Faculty   Level  \\\n",
       "0   22         Single    Muslim    Yoruba  Agriculture      300   \n",
       "1   19         Single    Muslim    Yoruba  Agriculture      300   \n",
       "\n",
       "   Permanent residence Family degree of breast cancer  \\\n",
       "0                Rural              No family history   \n",
       "1                Urban              No family history   \n",
       "\n",
       "   Can regular consumption of vegetable reduce breast cancer risk?  \\\n",
       "0                                   I strongly agree                 \n",
       "1                                   I strongly agree                 \n",
       "\n",
       "   Can regular consumption of fruit reduce breast cancer risk?  \\\n",
       "0                                   I strongly agree             \n",
       "1                                   I strongly agree             \n",
       "\n",
       "  Can breastfeeding reduce breast cancer risk?  \\\n",
       "0                             I strongly agree   \n",
       "1                             I strongly agree   \n",
       "\n",
       "  Can consumption of healthy diet reduce breast cancer risk?  \\\n",
       "0                                   I strongly agree           \n",
       "1                                   I strongly agree           \n",
       "\n",
       "  Can avoidance of smoking reduce breast cancer risk?  \\\n",
       "0                                   I strongly agree    \n",
       "1                                   I strongly agree    \n",
       "\n",
       "  Can maternal nutrition during pregnancy  impact daughter risk of breast cancer in the future?  \\\n",
       "0                                         I disagree                                              \n",
       "1                                   I strongly agree                                              \n",
       "\n",
       "  Can paternal nutrition during preconception  increase daughter risk of breast cancer in the future?  \\\n",
       "0                                         I disagree                                                    \n",
       "1                                   I strongly agree                                                    \n",
       "\n",
       "   Can alcohol consumption  increase breast cancer risk?  \\\n",
       "0                                   I strongly agree       \n",
       "1                                   I strongly agree       \n",
       "\n",
       "   Can doing regular physical exercise reduce breast cancer risk?  \\\n",
       "0                                   I strongly agree                \n",
       "1                                   I strongly agree                \n",
       "\n",
       "  Can maintaining healthy weight reduce breast cancer risk?  \n",
       "0                                   I strongly agree         \n",
       "1                                   I strongly agree         "
      ]
     },
     "execution_count": 15,
     "metadata": {},
     "output_type": "execute_result"
    }
   ],
   "source": [
    "post_attitude=pd.read_csv('post-seminar-attitude.csv',delimiter=';')\n",
    "post_attitude.head(2)"
   ]
  },
  {
   "cell_type": "code",
   "execution_count": 16,
   "id": "528616f4-5d1e-453b-adb6-c21e40d3b361",
   "metadata": {},
   "outputs": [],
   "source": [
    "post_attitude.columns=post_attitude.columns.str.strip()"
   ]
  },
  {
   "cell_type": "code",
   "execution_count": 17,
   "id": "71317529-71f1-4c67-8355-7c44c32c03c0",
   "metadata": {},
   "outputs": [],
   "source": [
    "columns=['Can regular consumption of vegetable reduce breast cancer risk?','Can regular consumption of fruit reduce breast cancer risk?','Can breastfeeding reduce breast cancer risk?','Can consumption of healthy diet reduce breast cancer risk?','Can avoidance of smoking reduce breast cancer risk?','Can maternal nutrition during pregnancy  impact daughter risk of breast cancer in the future?','Can paternal nutrition during preconception  increase daughter risk of breast cancer in the future?','Can alcohol consumption  increase breast cancer risk?','Can doing regular physical exercise reduce breast cancer risk?','Can maintaining healthy weight reduce breast cancer risk?']"
   ]
  },
  {
   "cell_type": "code",
   "execution_count": 18,
   "id": "f9308624-9c8d-4aad-8483-78254e191b62",
   "metadata": {},
   "outputs": [
    {
     "data": {
      "text/html": [
       "<div>\n",
       "<style scoped>\n",
       "    .dataframe tbody tr th:only-of-type {\n",
       "        vertical-align: middle;\n",
       "    }\n",
       "\n",
       "    .dataframe tbody tr th {\n",
       "        vertical-align: top;\n",
       "    }\n",
       "\n",
       "    .dataframe thead th {\n",
       "        text-align: right;\n",
       "    }\n",
       "</style>\n",
       "<table border=\"1\" class=\"dataframe\">\n",
       "  <thead>\n",
       "    <tr style=\"text-align: right;\">\n",
       "      <th></th>\n",
       "      <th>Can regular consumption of vegetable reduce breast cancer risk?</th>\n",
       "      <th>Can regular consumption of fruit reduce breast cancer risk?</th>\n",
       "      <th>Can breastfeeding reduce breast cancer risk?</th>\n",
       "      <th>Can consumption of healthy diet reduce breast cancer risk?</th>\n",
       "      <th>Can avoidance of smoking reduce breast cancer risk?</th>\n",
       "      <th>Can maternal nutrition during pregnancy  impact daughter risk of breast cancer in the future?</th>\n",
       "      <th>Can paternal nutrition during preconception  increase daughter risk of breast cancer in the future?</th>\n",
       "      <th>Can alcohol consumption  increase breast cancer risk?</th>\n",
       "      <th>Can doing regular physical exercise reduce breast cancer risk?</th>\n",
       "      <th>Can maintaining healthy weight reduce breast cancer risk?</th>\n",
       "    </tr>\n",
       "  </thead>\n",
       "  <tbody>\n",
       "    <tr>\n",
       "      <th>0</th>\n",
       "      <td>I strongly agree</td>\n",
       "      <td>I strongly agree</td>\n",
       "      <td>I strongly agree</td>\n",
       "      <td>I strongly agree</td>\n",
       "      <td>I strongly agree</td>\n",
       "      <td>I disagree</td>\n",
       "      <td>I disagree</td>\n",
       "      <td>I strongly agree</td>\n",
       "      <td>I strongly agree</td>\n",
       "      <td>I strongly agree</td>\n",
       "    </tr>\n",
       "    <tr>\n",
       "      <th>1</th>\n",
       "      <td>I strongly agree</td>\n",
       "      <td>I strongly agree</td>\n",
       "      <td>I strongly agree</td>\n",
       "      <td>I strongly agree</td>\n",
       "      <td>I strongly agree</td>\n",
       "      <td>I strongly agree</td>\n",
       "      <td>I strongly agree</td>\n",
       "      <td>I strongly agree</td>\n",
       "      <td>I strongly agree</td>\n",
       "      <td>I strongly agree</td>\n",
       "    </tr>\n",
       "  </tbody>\n",
       "</table>\n",
       "</div>"
      ],
      "text/plain": [
       "  Can regular consumption of vegetable reduce breast cancer risk?  \\\n",
       "0                                   I strongly agree                \n",
       "1                                   I strongly agree                \n",
       "\n",
       "  Can regular consumption of fruit reduce breast cancer risk?  \\\n",
       "0                                   I strongly agree            \n",
       "1                                   I strongly agree            \n",
       "\n",
       "  Can breastfeeding reduce breast cancer risk?  \\\n",
       "0                             I strongly agree   \n",
       "1                             I strongly agree   \n",
       "\n",
       "  Can consumption of healthy diet reduce breast cancer risk?  \\\n",
       "0                                   I strongly agree           \n",
       "1                                   I strongly agree           \n",
       "\n",
       "  Can avoidance of smoking reduce breast cancer risk?  \\\n",
       "0                                   I strongly agree    \n",
       "1                                   I strongly agree    \n",
       "\n",
       "  Can maternal nutrition during pregnancy  impact daughter risk of breast cancer in the future?  \\\n",
       "0                                         I disagree                                              \n",
       "1                                   I strongly agree                                              \n",
       "\n",
       "  Can paternal nutrition during preconception  increase daughter risk of breast cancer in the future?  \\\n",
       "0                                         I disagree                                                    \n",
       "1                                   I strongly agree                                                    \n",
       "\n",
       "  Can alcohol consumption  increase breast cancer risk?  \\\n",
       "0                                   I strongly agree      \n",
       "1                                   I strongly agree      \n",
       "\n",
       "  Can doing regular physical exercise reduce breast cancer risk?  \\\n",
       "0                                   I strongly agree               \n",
       "1                                   I strongly agree               \n",
       "\n",
       "  Can maintaining healthy weight reduce breast cancer risk?  \n",
       "0                                   I strongly agree         \n",
       "1                                   I strongly agree         "
      ]
     },
     "execution_count": 18,
     "metadata": {},
     "output_type": "execute_result"
    }
   ],
   "source": [
    "attitude_sem=pd.concat([post_attitude[col] for col in columns],axis=1)\n",
    "attitude_sem.head(2)"
   ]
  },
  {
   "cell_type": "code",
   "execution_count": 19,
   "id": "f954db8e-43b4-41cd-bbc5-ba93f5c5ac6f",
   "metadata": {},
   "outputs": [],
   "source": [
    "valid_responses_2 = ['I strongly agree', 'I agree']"
   ]
  },
  {
   "cell_type": "code",
   "execution_count": 20,
   "id": "592287f1-96e1-4edb-8742-339de064f54b",
   "metadata": {},
   "outputs": [],
   "source": [
    "filtered_responses_2 = post_attitude.apply(lambda col: col.map(lambda x: 1 if x in valid_responses_2 else 0))\n",
    "respondent_totals_2 = filtered_responses_2.sum(axis=1)\n",
    "question_totals_2 = filtered_responses_2.sum(axis=0)\n",
    "total_correct_answers_2 = filtered_responses_2.values.sum()"
   ]
  },
  {
   "cell_type": "code",
   "execution_count": 21,
   "id": "ffa18d82-86e7-4391-99ff-8d287ae4620f",
   "metadata": {},
   "outputs": [
    {
     "name": "stdout",
     "output_type": "stream",
     "text": [
      "Correct answers per respondent:\n",
      " 0       8\n",
      "1      10\n",
      "2       6\n",
      "3       7\n",
      "4       6\n",
      "       ..\n",
      "145     8\n",
      "146    10\n",
      "147    10\n",
      "148     7\n",
      "149     8\n",
      "Length: 150, dtype: int64\n"
     ]
    }
   ],
   "source": [
    "print(\"Correct answers per respondent:\\n\", respondent_totals_2)"
   ]
  },
  {
   "cell_type": "code",
   "execution_count": 22,
   "id": "d97f5f9e-2ef6-41a8-a19a-eff745ee88ce",
   "metadata": {},
   "outputs": [],
   "source": [
    "attitude_sem['score'] = respondent_totals_2"
   ]
  },
  {
   "cell_type": "code",
   "execution_count": 23,
   "id": "e9cd1b64-de50-4d75-bc1d-ab4ef40c1a82",
   "metadata": {},
   "outputs": [],
   "source": [
    "def categorize_attitude_2(score):\n",
    "    if score >= 7:\n",
    "        return \"High\"\n",
    "    elif 4 <= score <= 6:\n",
    "        return \"Moderate\"\n",
    "    else:\n",
    "        return \"Low\""
   ]
  },
  {
   "cell_type": "code",
   "execution_count": 24,
   "id": "da861a93-651b-4fe4-b330-fe4feea4dc9d",
   "metadata": {},
   "outputs": [
    {
     "data": {
      "text/html": [
       "<div>\n",
       "<style scoped>\n",
       "    .dataframe tbody tr th:only-of-type {\n",
       "        vertical-align: middle;\n",
       "    }\n",
       "\n",
       "    .dataframe tbody tr th {\n",
       "        vertical-align: top;\n",
       "    }\n",
       "\n",
       "    .dataframe thead th {\n",
       "        text-align: right;\n",
       "    }\n",
       "</style>\n",
       "<table border=\"1\" class=\"dataframe\">\n",
       "  <thead>\n",
       "    <tr style=\"text-align: right;\">\n",
       "      <th></th>\n",
       "      <th>attitude_level_2</th>\n",
       "    </tr>\n",
       "  </thead>\n",
       "  <tbody>\n",
       "    <tr>\n",
       "      <th>0</th>\n",
       "      <td>High</td>\n",
       "    </tr>\n",
       "    <tr>\n",
       "      <th>1</th>\n",
       "      <td>High</td>\n",
       "    </tr>\n",
       "    <tr>\n",
       "      <th>2</th>\n",
       "      <td>Moderate</td>\n",
       "    </tr>\n",
       "    <tr>\n",
       "      <th>3</th>\n",
       "      <td>High</td>\n",
       "    </tr>\n",
       "    <tr>\n",
       "      <th>4</th>\n",
       "      <td>Moderate</td>\n",
       "    </tr>\n",
       "  </tbody>\n",
       "</table>\n",
       "</div>"
      ],
      "text/plain": [
       "  attitude_level_2\n",
       "0             High\n",
       "1             High\n",
       "2         Moderate\n",
       "3             High\n",
       "4         Moderate"
      ]
     },
     "execution_count": 24,
     "metadata": {},
     "output_type": "execute_result"
    }
   ],
   "source": [
    "attitude_sem['attitude_level_2'] = attitude_sem['score'].apply(categorize_attitude_2)\n",
    "attitude_sem[['attitude_level_2']].head()"
   ]
  },
  {
   "cell_type": "code",
   "execution_count": 25,
   "id": "d500cd04-3848-4bc2-9f0f-b2881926fb79",
   "metadata": {},
   "outputs": [],
   "source": [
    "columns_2=['Age','Marital Status','Religion','Ethnicity','Faculty','Level','Permanent residence','Family degree of breast cancer']"
   ]
  },
  {
   "cell_type": "code",
   "execution_count": 26,
   "id": "e855c709-c38e-4391-9247-426576a5cdaa",
   "metadata": {},
   "outputs": [
    {
     "data": {
      "text/html": [
       "<div>\n",
       "<style scoped>\n",
       "    .dataframe tbody tr th:only-of-type {\n",
       "        vertical-align: middle;\n",
       "    }\n",
       "\n",
       "    .dataframe tbody tr th {\n",
       "        vertical-align: top;\n",
       "    }\n",
       "\n",
       "    .dataframe thead th {\n",
       "        text-align: right;\n",
       "    }\n",
       "</style>\n",
       "<table border=\"1\" class=\"dataframe\">\n",
       "  <thead>\n",
       "    <tr style=\"text-align: right;\">\n",
       "      <th></th>\n",
       "      <th>Age</th>\n",
       "      <th>Marital Status</th>\n",
       "      <th>Religion</th>\n",
       "      <th>Ethnicity</th>\n",
       "      <th>Faculty</th>\n",
       "      <th>Level</th>\n",
       "      <th>Permanent residence</th>\n",
       "      <th>Family degree of breast cancer</th>\n",
       "    </tr>\n",
       "  </thead>\n",
       "  <tbody>\n",
       "    <tr>\n",
       "      <th>0</th>\n",
       "      <td>22</td>\n",
       "      <td>Single</td>\n",
       "      <td>Muslim</td>\n",
       "      <td>Yoruba</td>\n",
       "      <td>Agriculture</td>\n",
       "      <td>300</td>\n",
       "      <td>Rural</td>\n",
       "      <td>No family history</td>\n",
       "    </tr>\n",
       "    <tr>\n",
       "      <th>1</th>\n",
       "      <td>19</td>\n",
       "      <td>Single</td>\n",
       "      <td>Muslim</td>\n",
       "      <td>Yoruba</td>\n",
       "      <td>Agriculture</td>\n",
       "      <td>300</td>\n",
       "      <td>Urban</td>\n",
       "      <td>No family history</td>\n",
       "    </tr>\n",
       "  </tbody>\n",
       "</table>\n",
       "</div>"
      ],
      "text/plain": [
       "   Age Marital Status Religion Ethnicity       Faculty  Level  \\\n",
       "0   22         Single   Muslim    Yoruba  Agriculture     300   \n",
       "1   19         Single   Muslim    Yoruba  Agriculture     300   \n",
       "\n",
       "  Permanent residence Family degree of breast cancer  \n",
       "0               Rural              No family history  \n",
       "1               Urban              No family history  "
      ]
     },
     "execution_count": 26,
     "metadata": {},
     "output_type": "execute_result"
    }
   ],
   "source": [
    "demographics_2=pd.concat([post_attitude[col] for col in columns_2], axis=1)\n",
    "demographics_2.head(2)"
   ]
  },
  {
   "cell_type": "code",
   "execution_count": 27,
   "id": "b6cb7686-2fa1-4bff-81b4-31d8197a6b82",
   "metadata": {},
   "outputs": [
    {
     "data": {
      "text/html": [
       "<div>\n",
       "<style scoped>\n",
       "    .dataframe tbody tr th:only-of-type {\n",
       "        vertical-align: middle;\n",
       "    }\n",
       "\n",
       "    .dataframe tbody tr th {\n",
       "        vertical-align: top;\n",
       "    }\n",
       "\n",
       "    .dataframe thead th {\n",
       "        text-align: right;\n",
       "    }\n",
       "</style>\n",
       "<table border=\"1\" class=\"dataframe\">\n",
       "  <thead>\n",
       "    <tr style=\"text-align: right;\">\n",
       "      <th></th>\n",
       "      <th>Age</th>\n",
       "      <th>Marital Status</th>\n",
       "      <th>Religion</th>\n",
       "      <th>Ethnicity</th>\n",
       "      <th>Faculty</th>\n",
       "      <th>Level</th>\n",
       "      <th>Permanent residence</th>\n",
       "      <th>Family degree of breast cancer</th>\n",
       "      <th>attitude_level_2</th>\n",
       "    </tr>\n",
       "  </thead>\n",
       "  <tbody>\n",
       "    <tr>\n",
       "      <th>0</th>\n",
       "      <td>22</td>\n",
       "      <td>Single</td>\n",
       "      <td>Muslim</td>\n",
       "      <td>Yoruba</td>\n",
       "      <td>Agriculture</td>\n",
       "      <td>300</td>\n",
       "      <td>Rural</td>\n",
       "      <td>No family history</td>\n",
       "      <td>High</td>\n",
       "    </tr>\n",
       "    <tr>\n",
       "      <th>1</th>\n",
       "      <td>19</td>\n",
       "      <td>Single</td>\n",
       "      <td>Muslim</td>\n",
       "      <td>Yoruba</td>\n",
       "      <td>Agriculture</td>\n",
       "      <td>300</td>\n",
       "      <td>Urban</td>\n",
       "      <td>No family history</td>\n",
       "      <td>High</td>\n",
       "    </tr>\n",
       "  </tbody>\n",
       "</table>\n",
       "</div>"
      ],
      "text/plain": [
       "   Age Marital Status Religion Ethnicity       Faculty  Level  \\\n",
       "0   22         Single   Muslim    Yoruba  Agriculture     300   \n",
       "1   19         Single   Muslim    Yoruba  Agriculture     300   \n",
       "\n",
       "  Permanent residence Family degree of breast cancer attitude_level_2  \n",
       "0               Rural              No family history             High  \n",
       "1               Urban              No family history             High  "
      ]
     },
     "execution_count": 27,
     "metadata": {},
     "output_type": "execute_result"
    }
   ],
   "source": [
    "overall_data_2=pd.concat([demographics_2,attitude_sem['attitude_level_2']],axis=1)\n",
    "overall_data_2.head(2)"
   ]
  },
  {
   "cell_type": "code",
   "execution_count": 28,
   "id": "78fad4ff-13d4-4695-908f-aa6536fddcf7",
   "metadata": {},
   "outputs": [
    {
     "data": {
      "text/html": [
       "<div>\n",
       "<style scoped>\n",
       "    .dataframe tbody tr th:only-of-type {\n",
       "        vertical-align: middle;\n",
       "    }\n",
       "\n",
       "    .dataframe tbody tr th {\n",
       "        vertical-align: top;\n",
       "    }\n",
       "\n",
       "    .dataframe thead th {\n",
       "        text-align: right;\n",
       "    }\n",
       "</style>\n",
       "<table border=\"1\" class=\"dataframe\">\n",
       "  <thead>\n",
       "    <tr style=\"text-align: right;\">\n",
       "      <th></th>\n",
       "      <th>Age</th>\n",
       "      <th>Marital Status</th>\n",
       "      <th>Religion</th>\n",
       "      <th>Ethnicity</th>\n",
       "      <th>Faculty</th>\n",
       "      <th>level</th>\n",
       "      <th>Permanent residence</th>\n",
       "      <th>Family degree of breast cancer</th>\n",
       "      <th>attitude_level_1</th>\n",
       "      <th>attitude_level_2</th>\n",
       "    </tr>\n",
       "  </thead>\n",
       "  <tbody>\n",
       "    <tr>\n",
       "      <th>0</th>\n",
       "      <td>22</td>\n",
       "      <td>Single</td>\n",
       "      <td>Muslim</td>\n",
       "      <td>Yoruba</td>\n",
       "      <td>Agriculture</td>\n",
       "      <td>300</td>\n",
       "      <td>Rural</td>\n",
       "      <td>No family history</td>\n",
       "      <td>Moderate</td>\n",
       "      <td>High</td>\n",
       "    </tr>\n",
       "    <tr>\n",
       "      <th>1</th>\n",
       "      <td>19</td>\n",
       "      <td>Single</td>\n",
       "      <td>Muslim</td>\n",
       "      <td>Yoruba</td>\n",
       "      <td>Agriculture</td>\n",
       "      <td>300</td>\n",
       "      <td>Urban</td>\n",
       "      <td>No family history</td>\n",
       "      <td>High</td>\n",
       "      <td>High</td>\n",
       "    </tr>\n",
       "  </tbody>\n",
       "</table>\n",
       "</div>"
      ],
      "text/plain": [
       "   Age Marital Status Religion Ethnicity       Faculty  level  \\\n",
       "0   22         Single   Muslim    Yoruba  Agriculture     300   \n",
       "1   19         Single   Muslim    Yoruba  Agriculture     300   \n",
       "\n",
       "  Permanent residence Family degree of breast cancer attitude_level_1  \\\n",
       "0               Rural              No family history         Moderate   \n",
       "1               Urban              No family history             High   \n",
       "\n",
       "  attitude_level_2  \n",
       "0             High  \n",
       "1             High  "
      ]
     },
     "execution_count": 28,
     "metadata": {},
     "output_type": "execute_result"
    }
   ],
   "source": [
    "compare_attitude=pd.concat([overall_data,attitude_sem['attitude_level_2']],axis=1)\n",
    "compare_attitude.head(2)"
   ]
  },
  {
   "cell_type": "code",
   "execution_count": 29,
   "id": "7f1dede8-c066-46fb-bd0d-4249f2e968a8",
   "metadata": {},
   "outputs": [],
   "source": [
    "compare_attitude.to_csv('attitude_level_for_pre_and_post_seminar.csv',index=False,sep=';')"
   ]
  },
  {
   "cell_type": "code",
   "execution_count": 30,
   "id": "547f8937-da55-471d-8998-400bc55fa345",
   "metadata": {},
   "outputs": [],
   "source": [
    "#calculating the totalfor each attitude level\n",
    "before_intervention_attitude=compare_attitude['attitude_level_1'].value_counts()\n",
    "after_intervention_attitude=compare_attitude['attitude_level_2'].value_counts()"
   ]
  },
  {
   "cell_type": "code",
   "execution_count": 31,
   "id": "169be678-0992-4e27-9a36-4b81ded00a0b",
   "metadata": {},
   "outputs": [],
   "source": [
    "all_level_1 = ['High', 'Moderate', 'Low']\n",
    "before_intervention_attitude = before_intervention_attitude.reindex(all_level_1, fill_value=0)\n",
    "after_intervention_attitude = after_intervention_attitude.reindex(all_level_1, fill_value=0)"
   ]
  },
  {
   "cell_type": "code",
   "execution_count": 32,
   "id": "e6b8a59c-b66e-4bfb-bfb3-58165add76c2",
   "metadata": {},
   "outputs": [],
   "source": [
    "#calculating the change in attitude\n",
    "change_1 = after_intervention_attitude - before_intervention_attitude"
   ]
  },
  {
   "cell_type": "code",
   "execution_count": 33,
   "id": "74b78d33-5770-46a0-802c-29b7a567c34c",
   "metadata": {},
   "outputs": [],
   "source": [
    "#creating the summary table\n",
    "attitude_summary_table = pd.DataFrame({\n",
    "    'Attitude Level': all_level_1 + ['Total Participants'],\n",
    "    'Before (Attitude_Level_1)': list(before_intervention_attitude) + [before_intervention_attitude.sum()],\n",
    "    'After (Attitude_Level_2)': list(after_intervention_attitude) + [after_intervention_attitude.sum()],\n",
    "    'Change': list(change_1) + [change_1.sum()]\n",
    "})"
   ]
  },
  {
   "cell_type": "code",
   "execution_count": 34,
   "id": "46311c47-da40-4ae2-a8de-95c352e3db40",
   "metadata": {},
   "outputs": [
    {
     "data": {
      "text/html": [
       "<div>\n",
       "<style scoped>\n",
       "    .dataframe tbody tr th:only-of-type {\n",
       "        vertical-align: middle;\n",
       "    }\n",
       "\n",
       "    .dataframe tbody tr th {\n",
       "        vertical-align: top;\n",
       "    }\n",
       "\n",
       "    .dataframe thead th {\n",
       "        text-align: right;\n",
       "    }\n",
       "</style>\n",
       "<table border=\"1\" class=\"dataframe\">\n",
       "  <thead>\n",
       "    <tr style=\"text-align: right;\">\n",
       "      <th></th>\n",
       "      <th>Attitude Level</th>\n",
       "      <th>Before (Attitude_Level_1)</th>\n",
       "      <th>After (Attitude_Level_2)</th>\n",
       "      <th>Change</th>\n",
       "    </tr>\n",
       "  </thead>\n",
       "  <tbody>\n",
       "    <tr>\n",
       "      <th>0</th>\n",
       "      <td>High</td>\n",
       "      <td>81</td>\n",
       "      <td>134</td>\n",
       "      <td>53</td>\n",
       "    </tr>\n",
       "    <tr>\n",
       "      <th>1</th>\n",
       "      <td>Moderate</td>\n",
       "      <td>51</td>\n",
       "      <td>16</td>\n",
       "      <td>-35</td>\n",
       "    </tr>\n",
       "    <tr>\n",
       "      <th>2</th>\n",
       "      <td>Low</td>\n",
       "      <td>18</td>\n",
       "      <td>0</td>\n",
       "      <td>-18</td>\n",
       "    </tr>\n",
       "    <tr>\n",
       "      <th>3</th>\n",
       "      <td>Total Participants</td>\n",
       "      <td>150</td>\n",
       "      <td>150</td>\n",
       "      <td>0</td>\n",
       "    </tr>\n",
       "  </tbody>\n",
       "</table>\n",
       "</div>"
      ],
      "text/plain": [
       "       Attitude Level  Before (Attitude_Level_1)  After (Attitude_Level_2)  \\\n",
       "0                High                         81                       134   \n",
       "1            Moderate                         51                        16   \n",
       "2                 Low                         18                         0   \n",
       "3  Total Participants                        150                       150   \n",
       "\n",
       "   Change  \n",
       "0      53  \n",
       "1     -35  \n",
       "2     -18  \n",
       "3       0  "
      ]
     },
     "execution_count": 34,
     "metadata": {},
     "output_type": "execute_result"
    }
   ],
   "source": [
    "#displaying the summary table\n",
    "attitude_summary_table"
   ]
  },
  {
   "cell_type": "code",
   "execution_count": 35,
   "id": "c900c757-5d56-40fa-89dd-21e3f6bbf5bf",
   "metadata": {},
   "outputs": [],
   "source": [
    "attitude_summary_table.to_csv('comparism_of_attitude_before_and_after_the_seminar.csv',index=False,sep=';')"
   ]
  },
  {
   "cell_type": "code",
   "execution_count": 36,
   "id": "55b29849-6daf-4207-aee6-e4c2c8cec1f2",
   "metadata": {},
   "outputs": [],
   "source": [
    "from scipy.stats import chi2_contingency"
   ]
  },
  {
   "cell_type": "code",
   "execution_count": 37,
   "id": "76fea859-8d58-4e73-b480-e23b18b63dd9",
   "metadata": {},
   "outputs": [],
   "source": [
    "#calculating chi_square to analyze the relationship between attitude_1 and attitude_2\n",
    "comparism_attitude = pd.crosstab(compare_attitude['attitude_level_1'], compare_attitude['attitude_level_2'])\n",
    "chi2, p, dof, expected = chi2_contingency(comparism_attitude)"
   ]
  },
  {
   "cell_type": "code",
   "execution_count": 38,
   "id": "9cdd8e90-cb85-41e6-8dc1-c58d29a970be",
   "metadata": {},
   "outputs": [
    {
     "name": "stdout",
     "output_type": "stream",
     "text": [
      "Chi-Square Statistic: 0.12132962637791439\n",
      "P-Value: 0.9411386441742494\n",
      "Degrees of Freedom: 2\n",
      "Expected Frequencies:\n",
      " [[72.36  8.64]\n",
      " [16.08  1.92]\n",
      " [45.56  5.44]]\n"
     ]
    }
   ],
   "source": [
    "print(\"Chi-Square Statistic:\", chi2)\n",
    "print(\"P-Value:\", p)\n",
    "print(\"Degrees of Freedom:\", dof)\n",
    "print(\"Expected Frequencies:\\n\", expected)"
   ]
  },
  {
   "cell_type": "markdown",
   "id": "21c1bb0b-e0a1-4feb-a5e3-35bef4f2e403",
   "metadata": {},
   "source": [
    "Analysing the influencing factors of the participants attitude towards breast cancer prevention using chi-square to see if there is any relationship"
   ]
  },
  {
   "cell_type": "code",
   "execution_count": 39,
   "id": "3b95c020-1e1d-43c0-98fc-d23173fcad55",
   "metadata": {},
   "outputs": [],
   "source": [
    "#Creating age groups (Age ≤ 23 and Age ≥ 24)\n",
    "compare_attitude['Age_Group'] = compare_attitude['Age'].apply(lambda x: '≤ 23' if x <= 23 else '≥ 24')"
   ]
  },
  {
   "cell_type": "code",
   "execution_count": 40,
   "id": "df629253-c55e-48f8-9e5a-171441867cc0",
   "metadata": {},
   "outputs": [],
   "source": [
    "#Combining the attitude levels\n",
    "compare_attitude['Combined_attitude'] = compare_attitude[['attitude_level_1', 'attitude_level_2']].max(axis=1)"
   ]
  },
  {
   "cell_type": "code",
   "execution_count": 41,
   "id": "70f777e7-d203-4ac1-a7cc-a30a88547a4d",
   "metadata": {},
   "outputs": [],
   "source": [
    "#Grouping by Age Group and Combined attitude to count occurrences\n",
    "attitude_counts = compare_attitude.groupby(['Age_Group', 'Combined_attitude']).size().unstack(fill_value=0)"
   ]
  },
  {
   "cell_type": "code",
   "execution_count": 42,
   "id": "b5702eb6-063d-4555-91fc-7c0b186cbcbc",
   "metadata": {},
   "outputs": [
    {
     "data": {
      "text/html": [
       "<div>\n",
       "<style scoped>\n",
       "    .dataframe tbody tr th:only-of-type {\n",
       "        vertical-align: middle;\n",
       "    }\n",
       "\n",
       "    .dataframe tbody tr th {\n",
       "        vertical-align: top;\n",
       "    }\n",
       "\n",
       "    .dataframe thead th {\n",
       "        text-align: right;\n",
       "    }\n",
       "</style>\n",
       "<table border=\"1\" class=\"dataframe\">\n",
       "  <thead>\n",
       "    <tr style=\"text-align: right;\">\n",
       "      <th>Combined_attitude</th>\n",
       "      <th>High</th>\n",
       "      <th>Low</th>\n",
       "      <th>Moderate</th>\n",
       "    </tr>\n",
       "    <tr>\n",
       "      <th>Age_Group</th>\n",
       "      <th></th>\n",
       "      <th></th>\n",
       "      <th></th>\n",
       "    </tr>\n",
       "  </thead>\n",
       "  <tbody>\n",
       "    <tr>\n",
       "      <th>≤ 23</th>\n",
       "      <td>49.586777</td>\n",
       "      <td>8.264463</td>\n",
       "      <td>42.148760</td>\n",
       "    </tr>\n",
       "    <tr>\n",
       "      <th>≥ 24</th>\n",
       "      <td>44.827586</td>\n",
       "      <td>20.689655</td>\n",
       "      <td>34.482759</td>\n",
       "    </tr>\n",
       "  </tbody>\n",
       "</table>\n",
       "</div>"
      ],
      "text/plain": [
       "Combined_attitude       High        Low   Moderate\n",
       "Age_Group                                         \n",
       "≤ 23               49.586777   8.264463  42.148760\n",
       "≥ 24               44.827586  20.689655  34.482759"
      ]
     },
     "execution_count": 42,
     "metadata": {},
     "output_type": "execute_result"
    }
   ],
   "source": [
    "# Calculating the percentage for each attitude level within each age group\n",
    "attitude_percentage_age = attitude_counts.div(attitude_counts.sum(axis=1), axis=0) * 100\n",
    "attitude_percentage_age"
   ]
  },
  {
   "cell_type": "code",
   "execution_count": 43,
   "id": "b4e52dfb-57b5-4db3-aa5c-2046a3281b95",
   "metadata": {},
   "outputs": [],
   "source": [
    "attitude_percentage_age.to_csv('age_demographic_relationship_and_attitude.csv',index=False,sep=';')"
   ]
  },
  {
   "cell_type": "code",
   "execution_count": 44,
   "id": "c5b4bee1-c3e3-4ba8-a447-3a6553282056",
   "metadata": {},
   "outputs": [],
   "source": [
    "relationship_table = pd.crosstab(compare_attitude['Age_Group'], compare_attitude['Combined_attitude'])\n",
    "chi2_stat, p_val, dof, expected = chi2_contingency(relationship_table)"
   ]
  },
  {
   "cell_type": "code",
   "execution_count": 45,
   "id": "9155a46d-6fc5-4be9-8376-e8825a0e1ac8",
   "metadata": {},
   "outputs": [
    {
     "name": "stdout",
     "output_type": "stream",
     "text": [
      "\n",
      "Chi-Square Test Results:\n",
      "Chi-Square Statistic: 3.8327976624479208\n",
      "P-value: 0.1471358703169558\n",
      "Degrees of Freedom: 2\n",
      "Expected Frequencies:\n",
      "[[58.88666667 12.90666667 49.20666667]\n",
      " [14.11333333  3.09333333 11.79333333]]\n"
     ]
    }
   ],
   "source": [
    "print(\"\\nChi-Square Test Results:\")\n",
    "print(f\"Chi-Square Statistic: {chi2_stat}\")\n",
    "print(f\"P-value: {p_val}\")\n",
    "print(f\"Degrees of Freedom: {dof}\")\n",
    "print(f\"Expected Frequencies:\\n{expected}\")"
   ]
  },
  {
   "cell_type": "code",
   "execution_count": 46,
   "id": "910b4ba0-6660-445e-a726-d0fe58f7999d",
   "metadata": {},
   "outputs": [],
   "source": [
    "#creating marital status group\n",
    "compare_attitude['Marital_Status_Group'] = compare_attitude['Marital Status'].apply(lambda x: 'Single' if x == 'Single' else ('Married' if x == 'Married' else 'Others'))\n"
   ]
  },
  {
   "cell_type": "code",
   "execution_count": 47,
   "id": "44362f86-8ea4-43a9-b0ee-2eec0abd2c3f",
   "metadata": {},
   "outputs": [],
   "source": [
    "compare_attitude['Combined_attitude'] = compare_attitude[['attitude_level_1','attitude_level_2']].max(axis=1)"
   ]
  },
  {
   "cell_type": "code",
   "execution_count": 48,
   "id": "983148b8-db26-4bc1-bdf7-987125306a97",
   "metadata": {},
   "outputs": [],
   "source": [
    "attitude_counts = compare_attitude.groupby(['Marital_Status_Group', 'Combined_attitude']).size().unstack(fill_value=0)"
   ]
  },
  {
   "cell_type": "code",
   "execution_count": 49,
   "id": "4333c33e-7148-48fc-aa4a-cd4219071e43",
   "metadata": {},
   "outputs": [
    {
     "data": {
      "text/html": [
       "<div>\n",
       "<style scoped>\n",
       "    .dataframe tbody tr th:only-of-type {\n",
       "        vertical-align: middle;\n",
       "    }\n",
       "\n",
       "    .dataframe tbody tr th {\n",
       "        vertical-align: top;\n",
       "    }\n",
       "\n",
       "    .dataframe thead th {\n",
       "        text-align: right;\n",
       "    }\n",
       "</style>\n",
       "<table border=\"1\" class=\"dataframe\">\n",
       "  <thead>\n",
       "    <tr style=\"text-align: right;\">\n",
       "      <th>Combined_attitude</th>\n",
       "      <th>High</th>\n",
       "      <th>Low</th>\n",
       "      <th>Moderate</th>\n",
       "    </tr>\n",
       "    <tr>\n",
       "      <th>Marital_Status_Group</th>\n",
       "      <th></th>\n",
       "      <th></th>\n",
       "      <th></th>\n",
       "    </tr>\n",
       "  </thead>\n",
       "  <tbody>\n",
       "    <tr>\n",
       "      <th>Married</th>\n",
       "      <td>33.333333</td>\n",
       "      <td>33.333333</td>\n",
       "      <td>33.333333</td>\n",
       "    </tr>\n",
       "    <tr>\n",
       "      <th>Others</th>\n",
       "      <td>25.000000</td>\n",
       "      <td>0.000000</td>\n",
       "      <td>75.000000</td>\n",
       "    </tr>\n",
       "    <tr>\n",
       "      <th>Single</th>\n",
       "      <td>49.650350</td>\n",
       "      <td>10.489510</td>\n",
       "      <td>39.860140</td>\n",
       "    </tr>\n",
       "  </tbody>\n",
       "</table>\n",
       "</div>"
      ],
      "text/plain": [
       "Combined_attitude          High        Low   Moderate\n",
       "Marital_Status_Group                                 \n",
       "Married               33.333333  33.333333  33.333333\n",
       "Others                25.000000   0.000000  75.000000\n",
       "Single                49.650350  10.489510  39.860140"
      ]
     },
     "execution_count": 49,
     "metadata": {},
     "output_type": "execute_result"
    }
   ],
   "source": [
    "attitude_percentage_marital = attitude_counts.div(attitude_counts.sum(axis=1), axis=0) * 100\n",
    "attitude_percentage_marital"
   ]
  },
  {
   "cell_type": "code",
   "execution_count": 50,
   "id": "388d2ae9-25e5-434b-b28b-c26654e51091",
   "metadata": {},
   "outputs": [],
   "source": [
    "attitude_percentage_marital.to_csv('marital_status_demographic_relationship_and_attitude.csv',index=False,sep=';')"
   ]
  },
  {
   "cell_type": "code",
   "execution_count": 51,
   "id": "3df4df1d-5496-4496-8324-dc3c48690143",
   "metadata": {},
   "outputs": [],
   "source": [
    "relationship_table = pd.crosstab(compare_attitude['Marital_Status_Group'], compare_attitude['Combined_attitude'])\n",
    "chi2_stat, p_val, dof, expected = chi2_contingency(relationship_table)"
   ]
  },
  {
   "cell_type": "code",
   "execution_count": 52,
   "id": "57921eee-3e25-4329-b186-11ee797f03f2",
   "metadata": {},
   "outputs": [
    {
     "name": "stdout",
     "output_type": "stream",
     "text": [
      "\n",
      "Chi-Square Test Results:\n",
      "Chi-Square Statistic: 3.731602722451588\n",
      "P-value: 0.44354618596534734\n",
      "Degrees of Freedom: 4\n",
      "Expected Frequencies:\n",
      "[[ 1.46        0.32        1.22      ]\n",
      " [ 1.94666667  0.42666667  1.62666667]\n",
      " [69.59333333 15.25333333 58.15333333]]\n"
     ]
    }
   ],
   "source": [
    "print(\"\\nChi-Square Test Results:\")\n",
    "print(f\"Chi-Square Statistic: {chi2_stat}\")\n",
    "print(f\"P-value: {p_val}\")\n",
    "print(f\"Degrees of Freedom: {dof}\")\n",
    "print(f\"Expected Frequencies:\\n{expected}\")"
   ]
  },
  {
   "cell_type": "code",
   "execution_count": 53,
   "id": "ca693e29-9a36-4f24-8389-a3fdbaf38191",
   "metadata": {},
   "outputs": [],
   "source": [
    "#creating Religion group to compare the relationship with attitude of the participants\n",
    "compare_attitude['Religion_Group'] = compare_attitude['Religion'].apply(lambda x: 'Muslim' if x == 'Muslim' else 'Christian')"
   ]
  },
  {
   "cell_type": "code",
   "execution_count": 54,
   "id": "fefcf0e9-1f9e-4724-b731-b165c2ed243c",
   "metadata": {},
   "outputs": [],
   "source": [
    "compare_attitude['Combined_attitude'] = compare_attitude[['attitude_level_1','attitude_level_2']].max(axis=1)"
   ]
  },
  {
   "cell_type": "code",
   "execution_count": 55,
   "id": "9283b7ab-e8c9-46c7-9822-3b163f1bcef9",
   "metadata": {},
   "outputs": [],
   "source": [
    "attitude_counts = compare_attitude.groupby(['Religion_Group', 'Combined_attitude']).size().unstack(fill_value=0)"
   ]
  },
  {
   "cell_type": "code",
   "execution_count": 56,
   "id": "64c428b1-2acc-4506-843d-b407fdc9c7a5",
   "metadata": {},
   "outputs": [
    {
     "data": {
      "text/html": [
       "<div>\n",
       "<style scoped>\n",
       "    .dataframe tbody tr th:only-of-type {\n",
       "        vertical-align: middle;\n",
       "    }\n",
       "\n",
       "    .dataframe tbody tr th {\n",
       "        vertical-align: top;\n",
       "    }\n",
       "\n",
       "    .dataframe thead th {\n",
       "        text-align: right;\n",
       "    }\n",
       "</style>\n",
       "<table border=\"1\" class=\"dataframe\">\n",
       "  <thead>\n",
       "    <tr style=\"text-align: right;\">\n",
       "      <th>Combined_attitude</th>\n",
       "      <th>High</th>\n",
       "      <th>Low</th>\n",
       "      <th>Moderate</th>\n",
       "    </tr>\n",
       "    <tr>\n",
       "      <th>Religion_Group</th>\n",
       "      <th></th>\n",
       "      <th></th>\n",
       "      <th></th>\n",
       "    </tr>\n",
       "  </thead>\n",
       "  <tbody>\n",
       "    <tr>\n",
       "      <th>Christian</th>\n",
       "      <td>48.507463</td>\n",
       "      <td>11.940299</td>\n",
       "      <td>39.552239</td>\n",
       "    </tr>\n",
       "    <tr>\n",
       "      <th>Muslim</th>\n",
       "      <td>50.000000</td>\n",
       "      <td>0.000000</td>\n",
       "      <td>50.000000</td>\n",
       "    </tr>\n",
       "  </tbody>\n",
       "</table>\n",
       "</div>"
      ],
      "text/plain": [
       "Combined_attitude       High        Low   Moderate\n",
       "Religion_Group                                    \n",
       "Christian          48.507463  11.940299  39.552239\n",
       "Muslim             50.000000   0.000000  50.000000"
      ]
     },
     "execution_count": 56,
     "metadata": {},
     "output_type": "execute_result"
    }
   ],
   "source": [
    "attitude_percentage_religion = attitude_counts.div(attitude_counts.sum(axis=1), axis=0) * 100\n",
    "attitude_percentage_religion"
   ]
  },
  {
   "cell_type": "code",
   "execution_count": 57,
   "id": "1ff7a70f-4e0b-464e-ae0e-52edce2e465b",
   "metadata": {},
   "outputs": [],
   "source": [
    "attitude_percentage_religion.to_csv('religion_status_demographic_relationship_and_attitude.csv',index=False,sep=';')"
   ]
  },
  {
   "cell_type": "code",
   "execution_count": 58,
   "id": "6cf91024-2b2c-42ea-a5fd-4bc5fa54f08e",
   "metadata": {},
   "outputs": [],
   "source": [
    "relationship_table = pd.crosstab(compare_attitude['Religion_Group'], compare_attitude['Combined_attitude'])\n",
    "chi2_stat, p_val, dof, expected = chi2_contingency(relationship_table)"
   ]
  },
  {
   "cell_type": "code",
   "execution_count": 59,
   "id": "c2821802-d1bf-41eb-a4bc-a5d230542e80",
   "metadata": {},
   "outputs": [
    {
     "name": "stdout",
     "output_type": "stream",
     "text": [
      "\n",
      "Chi-Square Test Results:\n",
      "Chi-Square Statistic: 2.3006458835398576\n",
      "P-value: 0.3165345306497921\n",
      "Degrees of Freedom: 2\n",
      "Expected Frequencies:\n",
      "[[65.21333333 14.29333333 54.49333333]\n",
      " [ 7.78666667  1.70666667  6.50666667]]\n"
     ]
    }
   ],
   "source": [
    "print(\"\\nChi-Square Test Results:\")\n",
    "print(f\"Chi-Square Statistic: {chi2_stat}\")\n",
    "print(f\"P-value: {p_val}\")\n",
    "print(f\"Degrees of Freedom: {dof}\")\n",
    "print(f\"Expected Frequencies:\\n{expected}\")"
   ]
  },
  {
   "cell_type": "code",
   "execution_count": 60,
   "id": "52fd8348-aee4-43c0-921d-1f2fa852f802",
   "metadata": {},
   "outputs": [],
   "source": [
    "compare_attitude['Ethnic_Group'] = compare_attitude['Ethnicity'].apply(lambda x: 'Yoruba' if x == 'Yoruba' else ('Hausa' if x == 'Hausa' else ('Igbo' if x == 'Igbo' else 'Others')))"
   ]
  },
  {
   "cell_type": "code",
   "execution_count": 61,
   "id": "49ec9ea8-2a8e-4cf4-862e-11819287bd23",
   "metadata": {},
   "outputs": [],
   "source": [
    "compare_attitude['Combined_attitude'] = compare_attitude[['attitude_level_1', 'attitude_level_2']].max(axis=1)"
   ]
  },
  {
   "cell_type": "code",
   "execution_count": 62,
   "id": "0c1b917b-660f-4031-87da-96ea190fd1b0",
   "metadata": {},
   "outputs": [],
   "source": [
    "attitude_counts = compare_attitude.groupby(['Ethnic_Group','Combined_attitude']).size().unstack(fill_value=0)"
   ]
  },
  {
   "cell_type": "code",
   "execution_count": 63,
   "id": "e8ccfb32-9404-4497-ba25-2f6e3beb5cc3",
   "metadata": {},
   "outputs": [
    {
     "data": {
      "text/html": [
       "<div>\n",
       "<style scoped>\n",
       "    .dataframe tbody tr th:only-of-type {\n",
       "        vertical-align: middle;\n",
       "    }\n",
       "\n",
       "    .dataframe tbody tr th {\n",
       "        vertical-align: top;\n",
       "    }\n",
       "\n",
       "    .dataframe thead th {\n",
       "        text-align: right;\n",
       "    }\n",
       "</style>\n",
       "<table border=\"1\" class=\"dataframe\">\n",
       "  <thead>\n",
       "    <tr style=\"text-align: right;\">\n",
       "      <th>Combined_attitude</th>\n",
       "      <th>High</th>\n",
       "      <th>Low</th>\n",
       "      <th>Moderate</th>\n",
       "    </tr>\n",
       "    <tr>\n",
       "      <th>Ethnic_Group</th>\n",
       "      <th></th>\n",
       "      <th></th>\n",
       "      <th></th>\n",
       "    </tr>\n",
       "  </thead>\n",
       "  <tbody>\n",
       "    <tr>\n",
       "      <th>Hausa</th>\n",
       "      <td>50.000000</td>\n",
       "      <td>0.000000</td>\n",
       "      <td>50.000000</td>\n",
       "    </tr>\n",
       "    <tr>\n",
       "      <th>Igbo</th>\n",
       "      <td>85.714286</td>\n",
       "      <td>0.000000</td>\n",
       "      <td>14.285714</td>\n",
       "    </tr>\n",
       "    <tr>\n",
       "      <th>Others</th>\n",
       "      <td>0.000000</td>\n",
       "      <td>16.666667</td>\n",
       "      <td>83.333333</td>\n",
       "    </tr>\n",
       "    <tr>\n",
       "      <th>Yoruba</th>\n",
       "      <td>48.888889</td>\n",
       "      <td>11.111111</td>\n",
       "      <td>40.000000</td>\n",
       "    </tr>\n",
       "  </tbody>\n",
       "</table>\n",
       "</div>"
      ],
      "text/plain": [
       "Combined_attitude       High        Low   Moderate\n",
       "Ethnic_Group                                      \n",
       "Hausa              50.000000   0.000000  50.000000\n",
       "Igbo               85.714286   0.000000  14.285714\n",
       "Others              0.000000  16.666667  83.333333\n",
       "Yoruba             48.888889  11.111111  40.000000"
      ]
     },
     "execution_count": 63,
     "metadata": {},
     "output_type": "execute_result"
    }
   ],
   "source": [
    "attitude_percentage_ethnic = attitude_counts.div(attitude_counts.sum(axis=1), axis=0) * 100\n",
    "attitude_percentage_ethnic"
   ]
  },
  {
   "cell_type": "code",
   "execution_count": 64,
   "id": "79b1512b-1c62-4669-8979-a6502a92ce80",
   "metadata": {},
   "outputs": [],
   "source": [
    "attitude_percentage_ethnic.to_csv('ethnic_status_demographic_relationship_and_attitude.csv',index=False,sep=';')"
   ]
  },
  {
   "cell_type": "code",
   "execution_count": 65,
   "id": "d3719cda-fdbf-443d-9434-48faf5f55b82",
   "metadata": {},
   "outputs": [],
   "source": [
    "relationship_table = pd.crosstab(compare_attitude['Ethnic_Group'], compare_attitude['Combined_attitude'])"
   ]
  },
  {
   "cell_type": "code",
   "execution_count": 66,
   "id": "0866231a-56d8-4af0-afaf-67075f6be6ce",
   "metadata": {},
   "outputs": [],
   "source": [
    "chi2_stat, p_val, dof, expected = chi2_contingency(relationship_table)"
   ]
  },
  {
   "cell_type": "code",
   "execution_count": 67,
   "id": "b49f24d2-50d6-49da-9183-05ded75737e9",
   "metadata": {},
   "outputs": [
    {
     "name": "stdout",
     "output_type": "stream",
     "text": [
      "\n",
      "Chi-Square Test Results:\n",
      "Chi-Square Statistic: 10.025233791023707\n",
      "P-value: 0.123593384128869\n",
      "Degrees of Freedom: 6\n",
      "Expected Frequencies:\n",
      "[[ 0.97333333  0.21333333  0.81333333]\n",
      " [ 3.40666667  0.74666667  2.84666667]\n",
      " [ 2.92        0.64        2.44      ]\n",
      " [65.7        14.4        54.9       ]]\n"
     ]
    }
   ],
   "source": [
    "print(\"\\nChi-Square Test Results:\")\n",
    "print(f\"Chi-Square Statistic: {chi2_stat}\")\n",
    "print(f\"P-value: {p_val}\")\n",
    "print(f\"Degrees of Freedom: {dof}\")\n",
    "print(f\"Expected Frequencies:\\n{expected}\")"
   ]
  },
  {
   "cell_type": "code",
   "execution_count": 68,
   "id": "25999ea4-1ae6-4a9a-a26e-273fa0bde74c",
   "metadata": {},
   "outputs": [],
   "source": [
    "compare_attitude['Faculty_Group'] = compare_attitude['Faculty'].apply(lambda x: 'Science' if x == 'Science' else 'Agriculture')"
   ]
  },
  {
   "cell_type": "code",
   "execution_count": 69,
   "id": "2eaac854-a081-437e-8108-8fc1395d3d29",
   "metadata": {},
   "outputs": [],
   "source": [
    "compare_attitude['Combined_attitude'] = compare_attitude[['attitude_level_1', 'attitude_level_2']].max(axis=1)"
   ]
  },
  {
   "cell_type": "code",
   "execution_count": 70,
   "id": "5b2138a7-fa95-4b76-8172-b5fea96e94ea",
   "metadata": {},
   "outputs": [],
   "source": [
    "attitude_counts = compare_attitude.groupby(['Faculty_Group', 'Combined_attitude']).size().unstack(fill_value=0)"
   ]
  },
  {
   "cell_type": "code",
   "execution_count": 71,
   "id": "7d2411dc-f977-41d8-950d-f58fdbc9ecc9",
   "metadata": {},
   "outputs": [
    {
     "data": {
      "text/html": [
       "<div>\n",
       "<style scoped>\n",
       "    .dataframe tbody tr th:only-of-type {\n",
       "        vertical-align: middle;\n",
       "    }\n",
       "\n",
       "    .dataframe tbody tr th {\n",
       "        vertical-align: top;\n",
       "    }\n",
       "\n",
       "    .dataframe thead th {\n",
       "        text-align: right;\n",
       "    }\n",
       "</style>\n",
       "<table border=\"1\" class=\"dataframe\">\n",
       "  <thead>\n",
       "    <tr style=\"text-align: right;\">\n",
       "      <th>Combined_attitude</th>\n",
       "      <th>High</th>\n",
       "      <th>Low</th>\n",
       "      <th>Moderate</th>\n",
       "    </tr>\n",
       "    <tr>\n",
       "      <th>Faculty_Group</th>\n",
       "      <th></th>\n",
       "      <th></th>\n",
       "      <th></th>\n",
       "    </tr>\n",
       "  </thead>\n",
       "  <tbody>\n",
       "    <tr>\n",
       "      <th>Agriculture</th>\n",
       "      <td>48.854962</td>\n",
       "      <td>11.450382</td>\n",
       "      <td>39.694656</td>\n",
       "    </tr>\n",
       "    <tr>\n",
       "      <th>Science</th>\n",
       "      <td>47.368421</td>\n",
       "      <td>5.263158</td>\n",
       "      <td>47.368421</td>\n",
       "    </tr>\n",
       "  </tbody>\n",
       "</table>\n",
       "</div>"
      ],
      "text/plain": [
       "Combined_attitude       High        Low   Moderate\n",
       "Faculty_Group                                     \n",
       "Agriculture        48.854962  11.450382  39.694656\n",
       "Science            47.368421   5.263158  47.368421"
      ]
     },
     "execution_count": 71,
     "metadata": {},
     "output_type": "execute_result"
    }
   ],
   "source": [
    "attitude_percentage_faculty = attitude_counts.div(attitude_counts.sum(axis=1), axis=0) * 100\n",
    "attitude_percentage_faculty"
   ]
  },
  {
   "cell_type": "code",
   "execution_count": 72,
   "id": "72942903-42b2-4721-a122-e4d686d5a564",
   "metadata": {},
   "outputs": [],
   "source": [
    "attitude_percentage_faculty.to_csv('faculty_status_demographic_relationship_and_attitude.csv',index=False,sep=';')"
   ]
  },
  {
   "cell_type": "code",
   "execution_count": 73,
   "id": "a5bd5a6e-0f7b-47f3-af1a-29f537ddde5a",
   "metadata": {},
   "outputs": [],
   "source": [
    "relationship_table = pd.crosstab(compare_attitude['Faculty_Group'], compare_attitude['Combined_attitude'])\n",
    "chi2_stat, p_val, dof, expected = chi2_contingency(relationship_table)"
   ]
  },
  {
   "cell_type": "code",
   "execution_count": 74,
   "id": "12cb6730-2f48-4f91-8930-0a379de840de",
   "metadata": {},
   "outputs": [
    {
     "name": "stdout",
     "output_type": "stream",
     "text": [
      "\n",
      "Chi-Square Test Results:\n",
      "Chi-Square Statistic: 0.8433317014806765\n",
      "P-value: 0.6559531890495487\n",
      "Degrees of Freedom: 2\n",
      "Expected Frequencies:\n",
      "[[63.75333333 13.97333333 53.27333333]\n",
      " [ 9.24666667  2.02666667  7.72666667]]\n"
     ]
    }
   ],
   "source": [
    "print(\"\\nChi-Square Test Results:\")\n",
    "print(f\"Chi-Square Statistic: {chi2_stat}\")\n",
    "print(f\"P-value: {p_val}\")\n",
    "print(f\"Degrees of Freedom: {dof}\")\n",
    "print(f\"Expected Frequencies:\\n{expected}\")"
   ]
  },
  {
   "cell_type": "code",
   "execution_count": 75,
   "id": "b1506918-a28d-409f-8980-43fd0d406987",
   "metadata": {},
   "outputs": [],
   "source": [
    "compare_attitude['Level_Group'] = compare_attitude['level'].apply(lambda x: '100' if x == 100 else ('200' if x == 200 else('300' if x==300 else '400')))\n",
    "compare_attitude['Combined_attitude'] = compare_attitude[['attitude_level_1', 'attitude_level_2']].max(axis=1)\n",
    "attitude_counts = compare_attitude.groupby(['Level_Group','Combined_attitude']).size().unstack(fill_value=0)"
   ]
  },
  {
   "cell_type": "code",
   "execution_count": 76,
   "id": "fb835647-ed8b-430f-92d8-dadb2a65a960",
   "metadata": {},
   "outputs": [
    {
     "data": {
      "text/html": [
       "<div>\n",
       "<style scoped>\n",
       "    .dataframe tbody tr th:only-of-type {\n",
       "        vertical-align: middle;\n",
       "    }\n",
       "\n",
       "    .dataframe tbody tr th {\n",
       "        vertical-align: top;\n",
       "    }\n",
       "\n",
       "    .dataframe thead th {\n",
       "        text-align: right;\n",
       "    }\n",
       "</style>\n",
       "<table border=\"1\" class=\"dataframe\">\n",
       "  <thead>\n",
       "    <tr style=\"text-align: right;\">\n",
       "      <th>Combined_attitude</th>\n",
       "      <th>High</th>\n",
       "      <th>Low</th>\n",
       "      <th>Moderate</th>\n",
       "    </tr>\n",
       "    <tr>\n",
       "      <th>Level_Group</th>\n",
       "      <th></th>\n",
       "      <th></th>\n",
       "      <th></th>\n",
       "    </tr>\n",
       "  </thead>\n",
       "  <tbody>\n",
       "    <tr>\n",
       "      <th>100</th>\n",
       "      <td>50.000000</td>\n",
       "      <td>0.000000</td>\n",
       "      <td>50.000000</td>\n",
       "    </tr>\n",
       "    <tr>\n",
       "      <th>200</th>\n",
       "      <td>0.000000</td>\n",
       "      <td>21.428571</td>\n",
       "      <td>78.571429</td>\n",
       "    </tr>\n",
       "    <tr>\n",
       "      <th>300</th>\n",
       "      <td>54.716981</td>\n",
       "      <td>9.433962</td>\n",
       "      <td>35.849057</td>\n",
       "    </tr>\n",
       "    <tr>\n",
       "      <th>400</th>\n",
       "      <td>53.086420</td>\n",
       "      <td>9.876543</td>\n",
       "      <td>37.037037</td>\n",
       "    </tr>\n",
       "  </tbody>\n",
       "</table>\n",
       "</div>"
      ],
      "text/plain": [
       "Combined_attitude       High        Low   Moderate\n",
       "Level_Group                                       \n",
       "100                50.000000   0.000000  50.000000\n",
       "200                 0.000000  21.428571  78.571429\n",
       "300                54.716981   9.433962  35.849057\n",
       "400                53.086420   9.876543  37.037037"
      ]
     },
     "execution_count": 76,
     "metadata": {},
     "output_type": "execute_result"
    }
   ],
   "source": [
    "attitude_percentage_level = attitude_counts.div(attitude_counts.sum(axis=1), axis=0) * 100\n",
    "attitude_percentage_level"
   ]
  },
  {
   "cell_type": "code",
   "execution_count": 77,
   "id": "d6932d76-b7be-4886-bfeb-e5652b22936a",
   "metadata": {},
   "outputs": [],
   "source": [
    "attitude_percentage_level.to_csv('level_status_demographic_relationship_and_attitude.csv',index=False,sep=';')"
   ]
  },
  {
   "cell_type": "code",
   "execution_count": 78,
   "id": "454e2d5b-2b69-40b0-869e-59c1d5c37ec1",
   "metadata": {},
   "outputs": [],
   "source": [
    "relationship_table = pd.crosstab(compare_attitude['Level_Group'], compare_attitude['Combined_attitude'])\n",
    "chi2_stat, p_val, dof, expected = chi2_contingency(relationship_table)"
   ]
  },
  {
   "cell_type": "code",
   "execution_count": 79,
   "id": "4813a0ae-d6e8-45c3-a331-323e4b9242cd",
   "metadata": {},
   "outputs": [
    {
     "name": "stdout",
     "output_type": "stream",
     "text": [
      "\n",
      "Chi-Square Test Results:\n",
      "Chi-Square Statistic: 14.948198234514912\n",
      "P-value: 0.020663465245984246\n",
      "Degrees of Freedom: 6\n",
      "Expected Frequencies:\n",
      "[[ 0.97333333  0.21333333  0.81333333]\n",
      " [ 6.81333333  1.49333333  5.69333333]\n",
      " [25.79333333  5.65333333 21.55333333]\n",
      " [39.42        8.64       32.94      ]]\n"
     ]
    }
   ],
   "source": [
    "print(\"\\nChi-Square Test Results:\")\n",
    "print(f\"Chi-Square Statistic: {chi2_stat}\")\n",
    "print(f\"P-value: {p_val}\")\n",
    "print(f\"Degrees of Freedom: {dof}\")\n",
    "print(f\"Expected Frequencies:\\n{expected}\")"
   ]
  },
  {
   "cell_type": "code",
   "execution_count": 80,
   "id": "5aa185fa-dee6-4ab3-996b-1e631e937c26",
   "metadata": {},
   "outputs": [],
   "source": [
    "compare_attitude['Residence_Group'] = compare_attitude['Permanent residence'].apply(lambda x: 'Urban' if x=='Urban' else 'Rural')\n",
    "compare_attitude['Combined_attitude'] = compare_attitude[['attitude_level_1', 'attitude_level_2']].max(axis=1)\n",
    "attitude_counts = compare_attitude.groupby(['Residence_Group', 'Combined_attitude']).size().unstack(fill_value=0)"
   ]
  },
  {
   "cell_type": "code",
   "execution_count": 81,
   "id": "709c2241-e39c-44a9-a6b8-84789716a6ad",
   "metadata": {},
   "outputs": [
    {
     "data": {
      "text/html": [
       "<div>\n",
       "<style scoped>\n",
       "    .dataframe tbody tr th:only-of-type {\n",
       "        vertical-align: middle;\n",
       "    }\n",
       "\n",
       "    .dataframe tbody tr th {\n",
       "        vertical-align: top;\n",
       "    }\n",
       "\n",
       "    .dataframe thead th {\n",
       "        text-align: right;\n",
       "    }\n",
       "</style>\n",
       "<table border=\"1\" class=\"dataframe\">\n",
       "  <thead>\n",
       "    <tr style=\"text-align: right;\">\n",
       "      <th>Combined_attitude</th>\n",
       "      <th>High</th>\n",
       "      <th>Low</th>\n",
       "      <th>Moderate</th>\n",
       "    </tr>\n",
       "    <tr>\n",
       "      <th>Residence_Group</th>\n",
       "      <th></th>\n",
       "      <th></th>\n",
       "      <th></th>\n",
       "    </tr>\n",
       "  </thead>\n",
       "  <tbody>\n",
       "    <tr>\n",
       "      <th>Rural</th>\n",
       "      <td>42.592593</td>\n",
       "      <td>9.259259</td>\n",
       "      <td>48.148148</td>\n",
       "    </tr>\n",
       "    <tr>\n",
       "      <th>Urban</th>\n",
       "      <td>52.083333</td>\n",
       "      <td>11.458333</td>\n",
       "      <td>36.458333</td>\n",
       "    </tr>\n",
       "  </tbody>\n",
       "</table>\n",
       "</div>"
      ],
      "text/plain": [
       "Combined_attitude       High        Low   Moderate\n",
       "Residence_Group                                   \n",
       "Rural              42.592593   9.259259  48.148148\n",
       "Urban              52.083333  11.458333  36.458333"
      ]
     },
     "execution_count": 81,
     "metadata": {},
     "output_type": "execute_result"
    }
   ],
   "source": [
    "attitude_percentage_residence = attitude_counts.div(attitude_counts.sum(axis=1), axis=0) * 100\n",
    "attitude_percentage_residence"
   ]
  },
  {
   "cell_type": "code",
   "execution_count": 82,
   "id": "60acea84-5701-4798-88c4-cee1705e04a6",
   "metadata": {},
   "outputs": [],
   "source": [
    "attitude_percentage_residence.to_csv('permanent_residence_demographic_profile_and_attitude.csv',index=False,sep=';')"
   ]
  },
  {
   "cell_type": "code",
   "execution_count": 83,
   "id": "4379c1d3-99b0-436a-9019-26bbac874a99",
   "metadata": {},
   "outputs": [],
   "source": [
    "relationship_table = pd.crosstab(compare_attitude['Residence_Group'], compare_attitude['Combined_attitude'])\n",
    "chi2_stat, p_val, dof, expected = chi2_contingency(relationship_table)"
   ]
  },
  {
   "cell_type": "code",
   "execution_count": 84,
   "id": "3f5f94fa-9f92-4eec-88aa-f7db78368fbe",
   "metadata": {},
   "outputs": [
    {
     "name": "stdout",
     "output_type": "stream",
     "text": [
      "\n",
      "Chi-Square Test Results:\n",
      "Chi-Square Statistic: 1.9576499808181749\n",
      "P-value: 0.3757523521798044\n",
      "Degrees of Freedom: 2\n",
      "Expected Frequencies:\n",
      "[[26.28  5.76 21.96]\n",
      " [46.72 10.24 39.04]]\n"
     ]
    }
   ],
   "source": [
    "print(\"\\nChi-Square Test Results:\")\n",
    "print(f\"Chi-Square Statistic: {chi2_stat}\")\n",
    "print(f\"P-value: {p_val}\")\n",
    "print(f\"Degrees of Freedom: {dof}\")\n",
    "print(f\"Expected Frequencies:\\n{expected}\")"
   ]
  },
  {
   "cell_type": "code",
   "execution_count": 85,
   "id": "9c977739-9a6f-47eb-810b-671f52f5bb20",
   "metadata": {},
   "outputs": [],
   "source": [
    "compare_attitude['Family_History_Group'] = compare_attitude['Family degree of breast cancer'].apply(lambda x: 'No family history' if x=='No family history' else 'First degree family')\n",
    "compare_attitude['Combined_attitude'] = compare_attitude[['attitude_level_1', 'attitude_level_2']].max(axis=1)\n",
    "attitude_counts = compare_attitude.groupby(['Family_History_Group', 'Combined_attitude']).size().unstack(fill_value=0)"
   ]
  },
  {
   "cell_type": "code",
   "execution_count": 86,
   "id": "66a25823-48d5-4c83-989d-c99a724fb63f",
   "metadata": {},
   "outputs": [
    {
     "data": {
      "text/html": [
       "<div>\n",
       "<style scoped>\n",
       "    .dataframe tbody tr th:only-of-type {\n",
       "        vertical-align: middle;\n",
       "    }\n",
       "\n",
       "    .dataframe tbody tr th {\n",
       "        vertical-align: top;\n",
       "    }\n",
       "\n",
       "    .dataframe thead th {\n",
       "        text-align: right;\n",
       "    }\n",
       "</style>\n",
       "<table border=\"1\" class=\"dataframe\">\n",
       "  <thead>\n",
       "    <tr style=\"text-align: right;\">\n",
       "      <th>Combined_attitude</th>\n",
       "      <th>High</th>\n",
       "      <th>Low</th>\n",
       "      <th>Moderate</th>\n",
       "    </tr>\n",
       "    <tr>\n",
       "      <th>Family_History_Group</th>\n",
       "      <th></th>\n",
       "      <th></th>\n",
       "      <th></th>\n",
       "    </tr>\n",
       "  </thead>\n",
       "  <tbody>\n",
       "    <tr>\n",
       "      <th>First degree family</th>\n",
       "      <td>0.000000</td>\n",
       "      <td>0.000000</td>\n",
       "      <td>100.000000</td>\n",
       "    </tr>\n",
       "    <tr>\n",
       "      <th>No family history</th>\n",
       "      <td>49.324324</td>\n",
       "      <td>10.810811</td>\n",
       "      <td>39.864865</td>\n",
       "    </tr>\n",
       "  </tbody>\n",
       "</table>\n",
       "</div>"
      ],
      "text/plain": [
       "Combined_attitude          High        Low    Moderate\n",
       "Family_History_Group                                  \n",
       "First degree family    0.000000   0.000000  100.000000\n",
       "No family history     49.324324  10.810811   39.864865"
      ]
     },
     "execution_count": 86,
     "metadata": {},
     "output_type": "execute_result"
    }
   ],
   "source": [
    "attitude_percentage_familyhistory = attitude_counts.div(attitude_counts.sum(axis=1), axis=0) * 100\n",
    "attitude_percentage_familyhistory"
   ]
  },
  {
   "cell_type": "code",
   "execution_count": 87,
   "id": "fc382d7d-72d7-4d36-bab6-bb2f57e3636e",
   "metadata": {},
   "outputs": [],
   "source": [
    "attitude_percentage_familyhistory.to_csv('family_history_demographic_profile_and_attitude.csv',index=False,sep=';')"
   ]
  },
  {
   "cell_type": "code",
   "execution_count": 88,
   "id": "86fb9ba7-e3aa-44f1-a6fa-3240e1b2aea9",
   "metadata": {},
   "outputs": [],
   "source": [
    "relationship_table = pd.crosstab(compare_attitude['Family_History_Group'], compare_attitude['Combined_attitude'])\n",
    "chi2_stat, p_val, dof, expected = chi2_contingency(relationship_table)"
   ]
  },
  {
   "cell_type": "code",
   "execution_count": 89,
   "id": "b1343701-5838-4349-b904-5d715ff5ac58",
   "metadata": {},
   "outputs": [
    {
     "name": "stdout",
     "output_type": "stream",
     "text": [
      "\n",
      "Chi-Square Test Results:\n",
      "Chi-Square Statistic: 2.957465662383695\n",
      "P-value: 0.22792632660014223\n",
      "Degrees of Freedom: 2\n",
      "Expected Frequencies:\n",
      "[[ 0.97333333  0.21333333  0.81333333]\n",
      " [72.02666667 15.78666667 60.18666667]]\n"
     ]
    }
   ],
   "source": [
    "print(\"\\nChi-Square Test Results:\")\n",
    "print(f\"Chi-Square Statistic: {chi2_stat}\")\n",
    "print(f\"P-value: {p_val}\")\n",
    "print(f\"Degrees of Freedom: {dof}\")\n",
    "print(f\"Expected Frequencies:\\n{expected}\")"
   ]
  },
  {
   "cell_type": "code",
   "execution_count": 90,
   "id": "ef4ce7e0-a38f-412e-87ed-6eb62a811b32",
   "metadata": {},
   "outputs": [],
   "source": [
    "import matplotlib.pyplot as plt"
   ]
  },
  {
   "cell_type": "code",
   "execution_count": 92,
   "id": "8b19672f-5041-4804-85b6-d7cb8f4d3e4c",
   "metadata": {},
   "outputs": [
    {
     "data": {
      "image/png": "[encoded data removed]",
      "text/plain": [
       "<Figure size 1000x600 with 1 Axes>"
      ]
     },
     "metadata": {},
     "output_type": "display_data"
    }
   ],
   "source": [
    "bar_width = 0.3 \n",
    "filtered_data = attitude_summary_table[attitude_summary_table['Attitude Level']!= \"Total Participants\"] \n",
    "x = range(len(filtered_data))\n",
    "plt.figure(figsize=(10, 6))\n",
    "plt.bar([i - bar_width/2 for i in x], filtered_data['Before (Attitude_Level_1)'], \n",
    "        width=bar_width, label='Before', color='skyblue', edgecolor='black')\n",
    "plt.bar([i + bar_width/2 for i in x], filtered_data['After (Attitude_Level_2)'], \n",
    "        width=bar_width, label='After', color='lightgreen', edgecolor='black')\n",
    "plt.title('Comparison of Attitude Levels Before and After the Seminar', fontsize=14)\n",
    "plt.xlabel('Attitude Level', fontsize=12)\n",
    "plt.ylabel('Number of Participants', fontsize=12)\n",
    "plt.xticks(ticks=x, labels=filtered_data['Attitude Level'], rotation=0)\n",
    "plt.legend()\n",
    "plt.grid(axis='y', linestyle='--', alpha=0.7)\n",
    "plt.tight_layout()\n",
    "plt.show()"
   ]
  },
  {
   "cell_type": "markdown",
   "id": "de53e19d-6153-44fe-a1d0-a7e1fd14aab3",
   "metadata": {},
   "source": [
    "Conclusion:The data indicates that the intervention effectively enhanced participants' awareness and attitude towards breast cancer prevention. A significant number of participants shifted from the \"moderate\" and \"low\" attitude categories to the \"high\" attitude level, with an overall increase of 53 participants adopting a more positive attitude on breast cancer prevention. This suggests that the educational seminar had a meaningful impact on raising awareness about breast cancer. However, no statistically significant relationship was found between attitude toward breast cancer prevention and the factors tested except for the year of study (p < 0.02) as indicated by chi-square, as the p-value was greater than 0.05. As a result, I fail to reject the null hypothesis, indicating that these factors may not be strongly associated with attitudes toward breast cancer prevention in the studied population."
   ]
  }
 ],
 "metadata": {
  "kernelspec": {
   "display_name": "Python 3 (ipykernel)",
   "language": "python",
   "name": "python3"
  },
  "language_info": {
   "codemirror_mode": {
    "name": "ipython",
    "version": 3
   },
   "file_extension": ".py",
   "mimetype": "text/x-python",
   "name": "python",
   "nbconvert_exporter": "python",
   "pygments_lexer": "ipython3",
   "version": "3.11.7"
  }
 },
 "nbformat": 4,
 "nbformat_minor": 5
}
