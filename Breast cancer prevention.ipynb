{
 "cells": [
  {
   "cell_type": "markdown",
   "id": "5a3d5238-71cb-4b6f-a10c-4819b2f450c8",
   "metadata": {},
   "source": [
    "Topic:Awareness of breast cancer prevention"
   ]
  },
  {
   "cell_type": "markdown",
   "id": "5768f9f4-e123-49b3-b974-4ac00d16828f",
   "metadata": {},
   "source": [
    "By Ibiwumi D.Kolawole\r\n",
    "\r\n",
    "Data Analyst/Food Scientist"
   ]
  },
  {
   "cell_type": "markdown",
   "id": "582a9cb8-a67c-43cc-b013-1bd6cc7fceb4",
   "metadata": {},
   "source": [
    "In recent times, nutrition has played a more significant role in understanding the causes of breast cancer. Therefore,focusing on nutrition-related factors linked to breast cancer risk or prevention could serve as a crucial intervention for breast cancer prevention. This project examined participants' knowledge of breast cancer prevention and analyzed the influencing factors of their knowledge using a chi-square test to determine whether their knowledge was associated with these factors."
   ]
  },
  {
   "cell_type": "code",
   "execution_count": 3,
   "id": "fcc5e845-fac2-4c7f-95ec-e57d7253a0df",
   "metadata": {},
   "outputs": [],
   "source": [
    "import pandas as pd"
   ]
  },
  {
   "cell_type": "markdown",
   "id": "9105017e-0d0b-4ffd-8a72-c32c9602a2c4",
   "metadata": {},
   "source": [
    "preprocessing the data"
   ]
  },
  {
   "cell_type": "code",
   "execution_count": 4,
   "id": "a6d3ad15-8c8a-485d-a8e4-0397b48b6196",
   "metadata": {},
   "outputs": [
    {
     "data": {
      "text/html": [
       "<div>\n",
       "<style scoped>\n",
       "    .dataframe tbody tr th:only-of-type {\n",
       "        vertical-align: middle;\n",
       "    }\n",
       "\n",
       "    .dataframe tbody tr th {\n",
       "        vertical-align: top;\n",
       "    }\n",
       "\n",
       "    .dataframe thead th {\n",
       "        text-align: right;\n",
       "    }\n",
       "</style>\n",
       "<table border=\"1\" class=\"dataframe\">\n",
       "  <thead>\n",
       "    <tr style=\"text-align: right;\">\n",
       "      <th></th>\n",
       "      <th>Age</th>\n",
       "      <th>Marital status</th>\n",
       "      <th>Religious</th>\n",
       "      <th>Ethnicity</th>\n",
       "      <th>Faculty</th>\n",
       "      <th>level</th>\n",
       "      <th>Permanent residence</th>\n",
       "      <th>Family degree of breast cancer</th>\n",
       "      <th>Is breast cancer the most common cancer in Nigeian women</th>\n",
       "      <th>Knowledge_level_of_breastcancer_risk_factors</th>\n",
       "      <th>Knowledge of the foods that modify the risk of breast cancer</th>\n",
       "      <th>Is breast cancer preventable</th>\n",
       "      <th>Is breast cancer contagious</th>\n",
       "      <th>Does diagnosis of breast cancer always lead to death</th>\n",
       "      <th>Does breast cancer affect only post-menopausal women</th>\n",
       "      <th>Can breast cancer be developed without family history</th>\n",
       "    </tr>\n",
       "  </thead>\n",
       "  <tbody>\n",
       "    <tr>\n",
       "      <th>0</th>\n",
       "      <td>22</td>\n",
       "      <td>Single</td>\n",
       "      <td>Muslim</td>\n",
       "      <td>Yoruba</td>\n",
       "      <td>Agriculture</td>\n",
       "      <td>300</td>\n",
       "      <td>Rural</td>\n",
       "      <td>No family history</td>\n",
       "      <td>Yes</td>\n",
       "      <td>Poor</td>\n",
       "      <td>No</td>\n",
       "      <td>Yes</td>\n",
       "      <td>No</td>\n",
       "      <td>Yes</td>\n",
       "      <td>Yes</td>\n",
       "      <td>Yes</td>\n",
       "    </tr>\n",
       "    <tr>\n",
       "      <th>1</th>\n",
       "      <td>19</td>\n",
       "      <td>Single</td>\n",
       "      <td>Muslim</td>\n",
       "      <td>Yoruba</td>\n",
       "      <td>Agriculture</td>\n",
       "      <td>300</td>\n",
       "      <td>Urban</td>\n",
       "      <td>No family history</td>\n",
       "      <td>Yes</td>\n",
       "      <td>Good</td>\n",
       "      <td>No</td>\n",
       "      <td>Yes</td>\n",
       "      <td>No</td>\n",
       "      <td>No</td>\n",
       "      <td>No</td>\n",
       "      <td>Yes</td>\n",
       "    </tr>\n",
       "    <tr>\n",
       "      <th>2</th>\n",
       "      <td>20</td>\n",
       "      <td>Single</td>\n",
       "      <td>Christian</td>\n",
       "      <td>Yoruba</td>\n",
       "      <td>Agriculture</td>\n",
       "      <td>200</td>\n",
       "      <td>Rural</td>\n",
       "      <td>No family history</td>\n",
       "      <td>Yes</td>\n",
       "      <td>Poor</td>\n",
       "      <td>I don't know</td>\n",
       "      <td>Yes</td>\n",
       "      <td>No</td>\n",
       "      <td>Yes</td>\n",
       "      <td>Yes</td>\n",
       "      <td>Yes</td>\n",
       "    </tr>\n",
       "    <tr>\n",
       "      <th>3</th>\n",
       "      <td>22</td>\n",
       "      <td>Others</td>\n",
       "      <td>Christian</td>\n",
       "      <td>Yoruba</td>\n",
       "      <td>Agriculture</td>\n",
       "      <td>300</td>\n",
       "      <td>Urban</td>\n",
       "      <td>No family history</td>\n",
       "      <td>No</td>\n",
       "      <td>Poor</td>\n",
       "      <td>I don't know</td>\n",
       "      <td>Yes</td>\n",
       "      <td>No</td>\n",
       "      <td>No</td>\n",
       "      <td>No</td>\n",
       "      <td>Yes</td>\n",
       "    </tr>\n",
       "    <tr>\n",
       "      <th>4</th>\n",
       "      <td>21</td>\n",
       "      <td>Single</td>\n",
       "      <td>Christian</td>\n",
       "      <td>Yoruba</td>\n",
       "      <td>Agriculture</td>\n",
       "      <td>300</td>\n",
       "      <td>Urban</td>\n",
       "      <td>No family history</td>\n",
       "      <td>Yes</td>\n",
       "      <td>Poor</td>\n",
       "      <td>I don't know</td>\n",
       "      <td>Yes</td>\n",
       "      <td>No</td>\n",
       "      <td>No</td>\n",
       "      <td>No</td>\n",
       "      <td>Yes</td>\n",
       "    </tr>\n",
       "  </tbody>\n",
       "</table>\n",
       "</div>"
      ],
      "text/plain": [
       "   Age Marital status   Religious Ethnicity      Faculty  level  \\\n",
       "0   22         Single      Muslim    Yoruba  Agriculture    300   \n",
       "1   19         Single      Muslim    Yoruba  Agriculture    300   \n",
       "2   20         Single   Christian    Yoruba  Agriculture    200   \n",
       "3   22         Others   Christian    Yoruba  Agriculture    300   \n",
       "4   21         Single   Christian    Yoruba  Agriculture    300   \n",
       "\n",
       "  Permanent residence Family degree of breast cancer  \\\n",
       "0               Rural              No family history   \n",
       "1               Urban              No family history   \n",
       "2               Rural              No family history   \n",
       "3               Urban              No family history   \n",
       "4               Urban              No family history   \n",
       "\n",
       "  Is breast cancer the most common cancer in Nigeian women  \\\n",
       "0                                                Yes         \n",
       "1                                                Yes         \n",
       "2                                                Yes         \n",
       "3                                                 No         \n",
       "4                                                Yes         \n",
       "\n",
       "  Knowledge_level_of_breastcancer_risk_factors  \\\n",
       "0                                         Poor   \n",
       "1                                         Good   \n",
       "2                                         Poor   \n",
       "3                                         Poor   \n",
       "4                                         Poor   \n",
       "\n",
       "  Knowledge of the foods that modify the risk of breast cancer  \\\n",
       "0                                                 No             \n",
       "1                                                 No             \n",
       "2                                       I don't know             \n",
       "3                                       I don't know             \n",
       "4                                       I don't know             \n",
       "\n",
       "  Is breast cancer preventable Is breast cancer contagious  \\\n",
       "0                          Yes                          No   \n",
       "1                          Yes                          No   \n",
       "2                          Yes                          No   \n",
       "3                          Yes                          No   \n",
       "4                          Yes                          No   \n",
       "\n",
       "  Does diagnosis of breast cancer always lead to death  \\\n",
       "0                                                Yes     \n",
       "1                                                 No     \n",
       "2                                                Yes     \n",
       "3                                                 No     \n",
       "4                                                 No     \n",
       "\n",
       "  Does breast cancer affect only post-menopausal women  \\\n",
       "0                                                Yes     \n",
       "1                                                 No     \n",
       "2                                                Yes     \n",
       "3                                                 No     \n",
       "4                                                 No     \n",
       "\n",
       "  Can breast cancer be developed without family history  \n",
       "0                                                Yes     \n",
       "1                                                Yes     \n",
       "2                                                Yes     \n",
       "3                                                Yes     \n",
       "4                                                Yes     "
      ]
     },
     "execution_count": 4,
     "metadata": {},
     "output_type": "execute_result"
    }
   ],
   "source": [
    "breast_cancer_knowledge=pd.read_csv('knowledge-preseminar.csv',delimiter=';')\n",
    "breast_cancer_knowledge.head()"
   ]
  },
  {
   "cell_type": "markdown",
   "id": "fd3c9bdf-b9df-4612-b3e9-7e68db3667c6",
   "metadata": {},
   "source": [
    "using index location to extract column 8 to the last "
   ]
  },
  {
   "cell_type": "code",
   "execution_count": 5,
   "id": "a0f7b476-2efc-475c-b36a-4e4d95068202",
   "metadata": {},
   "outputs": [
    {
     "data": {
      "text/html": [
       "<div>\n",
       "<style scoped>\n",
       "    .dataframe tbody tr th:only-of-type {\n",
       "        vertical-align: middle;\n",
       "    }\n",
       "\n",
       "    .dataframe tbody tr th {\n",
       "        vertical-align: top;\n",
       "    }\n",
       "\n",
       "    .dataframe thead th {\n",
       "        text-align: right;\n",
       "    }\n",
       "</style>\n",
       "<table border=\"1\" class=\"dataframe\">\n",
       "  <thead>\n",
       "    <tr style=\"text-align: right;\">\n",
       "      <th></th>\n",
       "      <th>Is breast cancer the most common cancer in Nigeian women</th>\n",
       "      <th>Knowledge_level_of_breastcancer_risk_factors</th>\n",
       "      <th>Knowledge of the foods that modify the risk of breast cancer</th>\n",
       "      <th>Is breast cancer preventable</th>\n",
       "      <th>Is breast cancer contagious</th>\n",
       "      <th>Does diagnosis of breast cancer always lead to death</th>\n",
       "      <th>Does breast cancer affect only post-menopausal women</th>\n",
       "      <th>Can breast cancer be developed without family history</th>\n",
       "    </tr>\n",
       "  </thead>\n",
       "  <tbody>\n",
       "    <tr>\n",
       "      <th>0</th>\n",
       "      <td>Yes</td>\n",
       "      <td>Poor</td>\n",
       "      <td>No</td>\n",
       "      <td>Yes</td>\n",
       "      <td>No</td>\n",
       "      <td>Yes</td>\n",
       "      <td>Yes</td>\n",
       "      <td>Yes</td>\n",
       "    </tr>\n",
       "    <tr>\n",
       "      <th>1</th>\n",
       "      <td>Yes</td>\n",
       "      <td>Good</td>\n",
       "      <td>No</td>\n",
       "      <td>Yes</td>\n",
       "      <td>No</td>\n",
       "      <td>No</td>\n",
       "      <td>No</td>\n",
       "      <td>Yes</td>\n",
       "    </tr>\n",
       "    <tr>\n",
       "      <th>2</th>\n",
       "      <td>Yes</td>\n",
       "      <td>Poor</td>\n",
       "      <td>I don't know</td>\n",
       "      <td>Yes</td>\n",
       "      <td>No</td>\n",
       "      <td>Yes</td>\n",
       "      <td>Yes</td>\n",
       "      <td>Yes</td>\n",
       "    </tr>\n",
       "  </tbody>\n",
       "</table>\n",
       "</div>"
      ],
      "text/plain": [
       "  Is breast cancer the most common cancer in Nigeian women  \\\n",
       "0                                                Yes         \n",
       "1                                                Yes         \n",
       "2                                                Yes         \n",
       "\n",
       "  Knowledge_level_of_breastcancer_risk_factors  \\\n",
       "0                                         Poor   \n",
       "1                                         Good   \n",
       "2                                         Poor   \n",
       "\n",
       "  Knowledge of the foods that modify the risk of breast cancer  \\\n",
       "0                                                 No             \n",
       "1                                                 No             \n",
       "2                                       I don't know             \n",
       "\n",
       "  Is breast cancer preventable Is breast cancer contagious  \\\n",
       "0                          Yes                          No   \n",
       "1                          Yes                          No   \n",
       "2                          Yes                          No   \n",
       "\n",
       "  Does diagnosis of breast cancer always lead to death  \\\n",
       "0                                                Yes     \n",
       "1                                                 No     \n",
       "2                                                Yes     \n",
       "\n",
       "  Does breast cancer affect only post-menopausal women  \\\n",
       "0                                                Yes     \n",
       "1                                                 No     \n",
       "2                                                Yes     \n",
       "\n",
       "  Can breast cancer be developed without family history  \n",
       "0                                                Yes     \n",
       "1                                                Yes     \n",
       "2                                                Yes     "
      ]
     },
     "execution_count": 5,
     "metadata": {},
     "output_type": "execute_result"
    }
   ],
   "source": [
    "breast_cancer_knowledge_dependent=breast_cancer_knowledge.iloc[:,8:]\n",
    "breast_cancer_knowledge_dependent.head(3)\n"
   ]
  },
  {
   "cell_type": "markdown",
   "id": "f20f403c-82de-4dc7-956b-c544c01349a4",
   "metadata": {},
   "source": [
    "Removing the whitespace in the data"
   ]
  },
  {
   "cell_type": "code",
   "execution_count": 6,
   "id": "d05150aa-514e-4968-8904-138bb3a2c32a",
   "metadata": {},
   "outputs": [],
   "source": [
    "breast_cancer_knowledge.columns=breast_cancer_knowledge.columns.str.strip()"
   ]
  },
  {
   "cell_type": "markdown",
   "id": "5c25244e-be7b-4062-ba67-0dfad661798a",
   "metadata": {},
   "source": [
    "Converting the responses to dummy variables"
   ]
  },
  {
   "cell_type": "code",
   "execution_count": 7,
   "id": "a5bed10d-e648-4e18-8d76-cf7521f515e4",
   "metadata": {},
   "outputs": [
    {
     "data": {
      "text/plain": [
       "Index(['most_commonfemalecancer_No', 'most_commonfemalecancer_Yes'], dtype='object')"
      ]
     },
     "execution_count": 7,
     "metadata": {},
     "output_type": "execute_result"
    }
   ],
   "source": [
    "most_commonfemalecancer=pd.get_dummies(breast_cancer_knowledge_dependent['Is breast cancer the most common cancer in Nigeian women'])\n",
    "most_commonfemalecancer=most_commonfemalecancer.astype(int)\n",
    "most_commonfemalecancer=most_commonfemalecancer.drop(columns=[\"i don't know\"],axis=1)\n",
    "most_commonfemalecancer.columns=['most_commonfemalecancer_No','most_commonfemalecancer_Yes']\n",
    "most_commonfemalecancer.columns"
   ]
  },
  {
   "cell_type": "code",
   "execution_count": 8,
   "id": "04d1fbef-a656-433b-a048-03182e18aab0",
   "metadata": {},
   "outputs": [
    {
     "data": {
      "text/plain": [
       "Index(['breastcancer_knowledgelevel_Good', 'breastcancer_knowledgelevel_Poor'], dtype='object')"
      ]
     },
     "execution_count": 8,
     "metadata": {},
     "output_type": "execute_result"
    }
   ],
   "source": [
    "breastcancer_knowledgelevel=pd.get_dummies(breast_cancer_knowledge_dependent['Knowledge_level_of_breastcancer_risk_factors'])\n",
    "breastcancer_knowledgelevel=breastcancer_knowledgelevel.astype(int)\n",
    "breastcancer_knowledgelevel=breastcancer_knowledgelevel.drop(columns=['Average'],axis=1)\n",
    "breastcancer_knowledgelevel.columns=['breastcancer_knowledgelevel_Good','breastcancer_knowledgelevel_Poor']\n",
    "breastcancer_knowledgelevel.columns"
   ]
  },
  {
   "cell_type": "code",
   "execution_count": 9,
   "id": "7cebfba8-696f-4189-8d84-38917c2cc2bc",
   "metadata": {},
   "outputs": [
    {
     "data": {
      "text/plain": [
       "Index(['food_knowledge_No', 'food_knowledge_Yes'], dtype='object')"
      ]
     },
     "execution_count": 9,
     "metadata": {},
     "output_type": "execute_result"
    }
   ],
   "source": [
    "food_knowledge=pd.get_dummies(breast_cancer_knowledge_dependent['Knowledge of the foods that modify the risk of breast cancer'])\n",
    "food_knowledge=food_knowledge.astype(int)\n",
    "food_knowledge=food_knowledge.drop(columns=[\"I don't know\"],axis=1)\n",
    "food_knowledge.columns=['food_knowledge_No','food_knowledge_Yes']\n",
    "food_knowledge.columns"
   ]
  },
  {
   "cell_type": "code",
   "execution_count": 10,
   "id": "9acef779-8f7a-4cf3-8687-cbdca5ba6a34",
   "metadata": {},
   "outputs": [
    {
     "data": {
      "text/plain": [
       "Index(['breastcancer_prevention_No', 'breastcancer_prevention_Yes'], dtype='object')"
      ]
     },
     "execution_count": 10,
     "metadata": {},
     "output_type": "execute_result"
    }
   ],
   "source": [
    "breastcancer_prevention=pd.get_dummies(breast_cancer_knowledge_dependent['Is breast cancer preventable'])\n",
    "breastcancer_prevention=breastcancer_prevention.astype(int)\n",
    "breastcancer_prevention=breastcancer_prevention.drop(columns=[\"I don't know\"],axis=1)\n",
    "breastcancer_prevention.columns=['breastcancer_prevention_No','breastcancer_prevention_Yes']\n",
    "breastcancer_prevention.columns"
   ]
  },
  {
   "cell_type": "code",
   "execution_count": 11,
   "id": "ad769bfc-b0b2-47a0-8952-8034c7a07ece",
   "metadata": {},
   "outputs": [
    {
     "data": {
      "text/plain": [
       "Index(['breastcancer_contagious_No', 'breastcancer_contagious_Yes'], dtype='object')"
      ]
     },
     "execution_count": 11,
     "metadata": {},
     "output_type": "execute_result"
    }
   ],
   "source": [
    "breastcancer_contagious=pd.get_dummies(breast_cancer_knowledge_dependent['Is breast cancer contagious'])\n",
    "breastcancer_contagious=breastcancer_contagious.replace({'Yes': 0, 'No': 1})\n",
    "breastcancer_contagious=breastcancer_contagious.astype(int)\n",
    "breastcancer_contagious=breastcancer_contagious.drop(columns=[\"I don't know\"],axis=1)\n",
    "breastcancer_contagious.columns=['breastcancer_contagious_No','breastcancer_contagious_Yes']\n",
    "breastcancer_contagious.columns"
   ]
  },
  {
   "cell_type": "code",
   "execution_count": 12,
   "id": "31643471-4e95-4cf4-bc5a-906d8d707ef7",
   "metadata": {},
   "outputs": [
    {
     "data": {
      "text/plain": [
       "Index(['breastcancer_death_No', 'breastcancer_death_Yes'], dtype='object')"
      ]
     },
     "execution_count": 12,
     "metadata": {},
     "output_type": "execute_result"
    }
   ],
   "source": [
    "breastcancer_death=pd.get_dummies(breast_cancer_knowledge_dependent['Does diagnosis of breast cancer always lead to death'])\n",
    "breastcancer_death=breastcancer_death.replace({'Yes':0, 'No':1})\n",
    "breastcancer_death=breastcancer_death.astype(int)\n",
    "breastcancer_death=breastcancer_death.drop(columns=[\"I don't know\"],axis=1)\n",
    "breastcancer_death.columns = ['breastcancer_death_No', 'breastcancer_death_Yes']\n",
    "breastcancer_death.columns"
   ]
  },
  {
   "cell_type": "code",
   "execution_count": 13,
   "id": "103c1220-6c00-4fc1-ac1d-a7ad24d46b1c",
   "metadata": {},
   "outputs": [
    {
     "data": {
      "text/plain": [
       "Index(['breastcancer_postmenopause_No', 'breastcancer_postmenopause_Yes'], dtype='object')"
      ]
     },
     "execution_count": 13,
     "metadata": {},
     "output_type": "execute_result"
    }
   ],
   "source": [
    "breastcancer_postmenopause=pd.get_dummies(breast_cancer_knowledge_dependent['Does breast cancer affect only post-menopausal women'])\n",
    "breastcancer_postmenopause=breastcancer_postmenopause.astype(int)\n",
    "breastcancer_postmenopause=breastcancer_postmenopause.drop(columns=[\"I don't know\"],axis=1)\n",
    "breastcancer_postmenopause.columns=['breastcancer_postmenopause_No','breastcancer_postmenopause_Yes']\n",
    "breastcancer_postmenopause.columns"
   ]
  },
  {
   "cell_type": "code",
   "execution_count": 14,
   "id": "3de43879-8ab9-4f20-b083-fca284ae5dab",
   "metadata": {},
   "outputs": [
    {
     "data": {
      "text/plain": [
       "Index(['breastcancer_familyhistory_No', 'breastcancer_familyhistory_Yes'], dtype='object')"
      ]
     },
     "execution_count": 14,
     "metadata": {},
     "output_type": "execute_result"
    }
   ],
   "source": [
    "breastcancer_familyhistory=pd.get_dummies(breast_cancer_knowledge_dependent['Can breast cancer be developed without family history'])\n",
    "breastcancer_familyhistory=breastcancer_familyhistory.astype(int)\n",
    "breastcancer_familyhistory=breastcancer_familyhistory.drop(columns=[\"I don't know\"],axis=1)\n",
    "breastcancer_familyhistory.columns=['breastcancer_familyhistory_No','breastcancer_familyhistory_Yes']\n",
    "breastcancer_familyhistory.columns"
   ]
  },
  {
   "cell_type": "markdown",
   "id": "02a4855d-bb6d-4438-a9ab-d2e2a0515110",
   "metadata": {},
   "source": [
    "concatenating the independent variable responses"
   ]
  },
  {
   "cell_type": "code",
   "execution_count": 15,
   "id": "b4c36c96-3730-493c-8e53-7d065e1dad21",
   "metadata": {},
   "outputs": [
    {
     "data": {
      "text/html": [
       "<div>\n",
       "<style scoped>\n",
       "    .dataframe tbody tr th:only-of-type {\n",
       "        vertical-align: middle;\n",
       "    }\n",
       "\n",
       "    .dataframe tbody tr th {\n",
       "        vertical-align: top;\n",
       "    }\n",
       "\n",
       "    .dataframe thead th {\n",
       "        text-align: right;\n",
       "    }\n",
       "</style>\n",
       "<table border=\"1\" class=\"dataframe\">\n",
       "  <thead>\n",
       "    <tr style=\"text-align: right;\">\n",
       "      <th></th>\n",
       "      <th>most_commonfemalecancer_No</th>\n",
       "      <th>most_commonfemalecancer_Yes</th>\n",
       "      <th>breastcancer_knowledgelevel_Good</th>\n",
       "      <th>breastcancer_knowledgelevel_Poor</th>\n",
       "      <th>food_knowledge_No</th>\n",
       "      <th>food_knowledge_Yes</th>\n",
       "      <th>breastcancer_prevention_No</th>\n",
       "      <th>breastcancer_prevention_Yes</th>\n",
       "      <th>breastcancer_contagious_No</th>\n",
       "      <th>breastcancer_contagious_Yes</th>\n",
       "      <th>breastcancer_death_No</th>\n",
       "      <th>breastcancer_death_Yes</th>\n",
       "      <th>breastcancer_postmenopause_No</th>\n",
       "      <th>breastcancer_postmenopause_Yes</th>\n",
       "      <th>breastcancer_familyhistory_No</th>\n",
       "      <th>breastcancer_familyhistory_Yes</th>\n",
       "    </tr>\n",
       "  </thead>\n",
       "  <tbody>\n",
       "    <tr>\n",
       "      <th>0</th>\n",
       "      <td>0</td>\n",
       "      <td>1</td>\n",
       "      <td>0</td>\n",
       "      <td>1</td>\n",
       "      <td>1</td>\n",
       "      <td>0</td>\n",
       "      <td>0</td>\n",
       "      <td>1</td>\n",
       "      <td>1</td>\n",
       "      <td>0</td>\n",
       "      <td>0</td>\n",
       "      <td>1</td>\n",
       "      <td>0</td>\n",
       "      <td>1</td>\n",
       "      <td>0</td>\n",
       "      <td>1</td>\n",
       "    </tr>\n",
       "    <tr>\n",
       "      <th>1</th>\n",
       "      <td>0</td>\n",
       "      <td>1</td>\n",
       "      <td>1</td>\n",
       "      <td>0</td>\n",
       "      <td>1</td>\n",
       "      <td>0</td>\n",
       "      <td>0</td>\n",
       "      <td>1</td>\n",
       "      <td>1</td>\n",
       "      <td>0</td>\n",
       "      <td>1</td>\n",
       "      <td>0</td>\n",
       "      <td>1</td>\n",
       "      <td>0</td>\n",
       "      <td>0</td>\n",
       "      <td>1</td>\n",
       "    </tr>\n",
       "  </tbody>\n",
       "</table>\n",
       "</div>"
      ],
      "text/plain": [
       "   most_commonfemalecancer_No  most_commonfemalecancer_Yes  \\\n",
       "0                           0                            1   \n",
       "1                           0                            1   \n",
       "\n",
       "   breastcancer_knowledgelevel_Good  breastcancer_knowledgelevel_Poor  \\\n",
       "0                                 0                                 1   \n",
       "1                                 1                                 0   \n",
       "\n",
       "   food_knowledge_No  food_knowledge_Yes  breastcancer_prevention_No  \\\n",
       "0                  1                   0                           0   \n",
       "1                  1                   0                           0   \n",
       "\n",
       "   breastcancer_prevention_Yes  breastcancer_contagious_No  \\\n",
       "0                            1                           1   \n",
       "1                            1                           1   \n",
       "\n",
       "   breastcancer_contagious_Yes  breastcancer_death_No  breastcancer_death_Yes  \\\n",
       "0                            0                      0                       1   \n",
       "1                            0                      1                       0   \n",
       "\n",
       "   breastcancer_postmenopause_No  breastcancer_postmenopause_Yes  \\\n",
       "0                              0                               1   \n",
       "1                              1                               0   \n",
       "\n",
       "   breastcancer_familyhistory_No  breastcancer_familyhistory_Yes  \n",
       "0                              0                               1  \n",
       "1                              0                               1  "
      ]
     },
     "execution_count": 15,
     "metadata": {},
     "output_type": "execute_result"
    }
   ],
   "source": [
    "overallknowledge=pd.concat([most_commonfemalecancer,breastcancer_knowledgelevel,food_knowledge,breastcancer_prevention,breastcancer_contagious,breastcancer_death,breastcancer_postmenopause,breastcancer_familyhistory], axis=1)\n",
    "overallknowledge.head(2)"
   ]
  },
  {
   "cell_type": "code",
   "execution_count": 16,
   "id": "e04b4c04-ce93-4d37-89d9-72c479afb152",
   "metadata": {},
   "outputs": [],
   "source": [
    "columns_with_no_as_correct = [\n",
    "    'breastcancer_death_No', \n",
    "    'breastcancer_contagious_No', \n",
    "    'breastcancer_postmenopause_No'\n",
    "]"
   ]
  },
  {
   "cell_type": "code",
   "execution_count": 17,
   "id": "bed5522f-f4a6-44c0-86ee-64c53a06123f",
   "metadata": {},
   "outputs": [],
   "source": [
    "for col in columns_with_no_as_correct:\n",
    "    overallknowledge[col] = overallknowledge[col].replace({'Yes': 0, 'No': 1}).astype(int)  "
   ]
  },
  {
   "cell_type": "code",
   "execution_count": 18,
   "id": "1b3304d9-5887-4b9b-a94e-e8c1b9e3b911",
   "metadata": {},
   "outputs": [
    {
     "data": {
      "text/html": [
       "<div>\n",
       "<style scoped>\n",
       "    .dataframe tbody tr th:only-of-type {\n",
       "        vertical-align: middle;\n",
       "    }\n",
       "\n",
       "    .dataframe tbody tr th {\n",
       "        vertical-align: top;\n",
       "    }\n",
       "\n",
       "    .dataframe thead th {\n",
       "        text-align: right;\n",
       "    }\n",
       "</style>\n",
       "<table border=\"1\" class=\"dataframe\">\n",
       "  <thead>\n",
       "    <tr style=\"text-align: right;\">\n",
       "      <th></th>\n",
       "      <th>breastcancer_death_No</th>\n",
       "      <th>breastcancer_contagious_No</th>\n",
       "      <th>breastcancer_postmenopause_No</th>\n",
       "    </tr>\n",
       "  </thead>\n",
       "  <tbody>\n",
       "    <tr>\n",
       "      <th>0</th>\n",
       "      <td>0</td>\n",
       "      <td>1</td>\n",
       "      <td>0</td>\n",
       "    </tr>\n",
       "    <tr>\n",
       "      <th>1</th>\n",
       "      <td>1</td>\n",
       "      <td>1</td>\n",
       "      <td>1</td>\n",
       "    </tr>\n",
       "    <tr>\n",
       "      <th>2</th>\n",
       "      <td>0</td>\n",
       "      <td>1</td>\n",
       "      <td>0</td>\n",
       "    </tr>\n",
       "    <tr>\n",
       "      <th>3</th>\n",
       "      <td>1</td>\n",
       "      <td>1</td>\n",
       "      <td>1</td>\n",
       "    </tr>\n",
       "    <tr>\n",
       "      <th>4</th>\n",
       "      <td>1</td>\n",
       "      <td>1</td>\n",
       "      <td>1</td>\n",
       "    </tr>\n",
       "  </tbody>\n",
       "</table>\n",
       "</div>"
      ],
      "text/plain": [
       "   breastcancer_death_No  breastcancer_contagious_No  \\\n",
       "0                      0                           1   \n",
       "1                      1                           1   \n",
       "2                      0                           1   \n",
       "3                      1                           1   \n",
       "4                      1                           1   \n",
       "\n",
       "   breastcancer_postmenopause_No  \n",
       "0                              0  \n",
       "1                              1  \n",
       "2                              0  \n",
       "3                              1  \n",
       "4                              1  "
      ]
     },
     "execution_count": 18,
     "metadata": {},
     "output_type": "execute_result"
    }
   ],
   "source": [
    "overallknowledge[columns_with_no_as_correct].head()"
   ]
  },
  {
   "cell_type": "code",
   "execution_count": 19,
   "id": "3f9f0113-23f7-4bdc-ac5a-3d5bc065d835",
   "metadata": {},
   "outputs": [],
   "source": [
    "columns_for_total_score = [\n",
    "    'most_commonfemalecancer_Yes',\n",
    "    'breastcancer_knowledgelevel_Good',\n",
    "    'food_knowledge_Yes',\n",
    "    'breastcancer_prevention_Yes',\n",
    "    'breastcancer_contagious_No',  \n",
    "    'breastcancer_death_No',       \n",
    "    'breastcancer_postmenopause_No',  \n",
    "    'breastcancer_familyhistory_Yes'\n",
    "]"
   ]
  },
  {
   "cell_type": "markdown",
   "id": "0e528eb9-dfcb-4ded-bd98-2c59185f0c62",
   "metadata": {},
   "source": [
    "Calculating the total score of each participant to categorize their knowledge level on breast cancer prevention"
   ]
  },
  {
   "cell_type": "code",
   "execution_count": 20,
   "id": "b79c7f53-8927-495f-95a6-ee9fa3a3aa74",
   "metadata": {},
   "outputs": [],
   "source": [
    "overallknowledge['total_knowledge_score'] = overallknowledge[columns_for_total_score].sum(axis=1)"
   ]
  },
  {
   "cell_type": "code",
   "execution_count": 21,
   "id": "7e03ca5f-e406-41b4-a78b-a6d2527a3bd6",
   "metadata": {},
   "outputs": [
    {
     "data": {
      "text/html": [
       "<div>\n",
       "<style scoped>\n",
       "    .dataframe tbody tr th:only-of-type {\n",
       "        vertical-align: middle;\n",
       "    }\n",
       "\n",
       "    .dataframe tbody tr th {\n",
       "        vertical-align: top;\n",
       "    }\n",
       "\n",
       "    .dataframe thead th {\n",
       "        text-align: right;\n",
       "    }\n",
       "</style>\n",
       "<table border=\"1\" class=\"dataframe\">\n",
       "  <thead>\n",
       "    <tr style=\"text-align: right;\">\n",
       "      <th></th>\n",
       "      <th>total_knowledge_score</th>\n",
       "    </tr>\n",
       "  </thead>\n",
       "  <tbody>\n",
       "    <tr>\n",
       "      <th>0</th>\n",
       "      <td>4</td>\n",
       "    </tr>\n",
       "    <tr>\n",
       "      <th>1</th>\n",
       "      <td>7</td>\n",
       "    </tr>\n",
       "    <tr>\n",
       "      <th>2</th>\n",
       "      <td>4</td>\n",
       "    </tr>\n",
       "    <tr>\n",
       "      <th>3</th>\n",
       "      <td>5</td>\n",
       "    </tr>\n",
       "    <tr>\n",
       "      <th>4</th>\n",
       "      <td>6</td>\n",
       "    </tr>\n",
       "  </tbody>\n",
       "</table>\n",
       "</div>"
      ],
      "text/plain": [
       "   total_knowledge_score\n",
       "0                      4\n",
       "1                      7\n",
       "2                      4\n",
       "3                      5\n",
       "4                      6"
      ]
     },
     "execution_count": 21,
     "metadata": {},
     "output_type": "execute_result"
    }
   ],
   "source": [
    "overallknowledge[['total_knowledge_score']].head()"
   ]
  },
  {
   "cell_type": "markdown",
   "id": "2e2909ac-a89a-403a-aa29-25dbabed134b",
   "metadata": {},
   "source": [
    "Categorizing the Knowledge level of each participant"
   ]
  },
  {
   "cell_type": "code",
   "execution_count": 22,
   "id": "efacbfc7-aa98-41d0-9570-07999062527f",
   "metadata": {},
   "outputs": [],
   "source": [
    "def knowledge_category(score):\n",
    "    if score <= 3:\n",
    "        return \"Low\"\n",
    "    elif score <= 6:\n",
    "        return \"Moderate\"\n",
    "    else:\n",
    "        return \"High\""
   ]
  },
  {
   "cell_type": "code",
   "execution_count": 23,
   "id": "82a90cbe-7ebf-42e2-b9ff-41220ac3eb3a",
   "metadata": {},
   "outputs": [
    {
     "data": {
      "text/plain": [
       "0    Moderate\n",
       "1        High\n",
       "2    Moderate\n",
       "Name: Knowledge_Level, dtype: object"
      ]
     },
     "execution_count": 23,
     "metadata": {},
     "output_type": "execute_result"
    }
   ],
   "source": [
    "overallknowledge['Knowledge_Level'] = overallknowledge['total_knowledge_score'].apply(knowledge_category)\n",
    "overallknowledge['Knowledge_Level'].head(3)"
   ]
  },
  {
   "cell_type": "code",
   "execution_count": 24,
   "id": "77256a5d-aa88-4076-aa82-fc0c2246b969",
   "metadata": {},
   "outputs": [],
   "source": [
    "socio_profiles = ['Age','Marital status','Religious','Ethnicity','Faculty','level','Permanent residence','Family degree of breast cancer']"
   ]
  },
  {
   "cell_type": "markdown",
   "id": "8c43349e-2c28-45f3-860a-fce1e8b8ae89",
   "metadata": {},
   "source": [
    "Concatenating the sociodemographic variables"
   ]
  },
  {
   "cell_type": "code",
   "execution_count": 26,
   "id": "3cd7c383-ca54-4952-b767-d396562587a2",
   "metadata": {},
   "outputs": [
    {
     "data": {
      "text/html": [
       "<div>\n",
       "<style scoped>\n",
       "    .dataframe tbody tr th:only-of-type {\n",
       "        vertical-align: middle;\n",
       "    }\n",
       "\n",
       "    .dataframe tbody tr th {\n",
       "        vertical-align: top;\n",
       "    }\n",
       "\n",
       "    .dataframe thead th {\n",
       "        text-align: right;\n",
       "    }\n",
       "</style>\n",
       "<table border=\"1\" class=\"dataframe\">\n",
       "  <thead>\n",
       "    <tr style=\"text-align: right;\">\n",
       "      <th></th>\n",
       "      <th>Age</th>\n",
       "      <th>Marital status</th>\n",
       "      <th>Religious</th>\n",
       "      <th>Ethnicity</th>\n",
       "      <th>Faculty</th>\n",
       "      <th>level</th>\n",
       "      <th>Permanent residence</th>\n",
       "      <th>Family degree of breast cancer</th>\n",
       "    </tr>\n",
       "  </thead>\n",
       "  <tbody>\n",
       "    <tr>\n",
       "      <th>0</th>\n",
       "      <td>22</td>\n",
       "      <td>Single</td>\n",
       "      <td>Muslim</td>\n",
       "      <td>Yoruba</td>\n",
       "      <td>Agriculture</td>\n",
       "      <td>300</td>\n",
       "      <td>Rural</td>\n",
       "      <td>No family history</td>\n",
       "    </tr>\n",
       "    <tr>\n",
       "      <th>1</th>\n",
       "      <td>19</td>\n",
       "      <td>Single</td>\n",
       "      <td>Muslim</td>\n",
       "      <td>Yoruba</td>\n",
       "      <td>Agriculture</td>\n",
       "      <td>300</td>\n",
       "      <td>Urban</td>\n",
       "      <td>No family history</td>\n",
       "    </tr>\n",
       "  </tbody>\n",
       "</table>\n",
       "</div>"
      ],
      "text/plain": [
       "   Age Marital status Religious Ethnicity      Faculty  level  \\\n",
       "0   22         Single    Muslim    Yoruba  Agriculture    300   \n",
       "1   19         Single    Muslim    Yoruba  Agriculture    300   \n",
       "\n",
       "  Permanent residence Family degree of breast cancer  \n",
       "0               Rural              No family history  \n",
       "1               Urban              No family history  "
      ]
     },
     "execution_count": 26,
     "metadata": {},
     "output_type": "execute_result"
    }
   ],
   "source": [
    "sociodemographic_variables = pd.concat([breast_cancer_knowledge[col] for col in socio_profiles], axis=1)\n",
    "sociodemographic_variables.head(2)"
   ]
  },
  {
   "cell_type": "markdown",
   "id": "13e781c1-ff87-4542-bd32-e38aac0a107f",
   "metadata": {},
   "source": [
    "concatenating the sociodemographic and dependent variables to calculate the Chi-square"
   ]
  },
  {
   "cell_type": "code",
   "execution_count": 28,
   "id": "36244be7-355e-421c-97c0-2d317850c21d",
   "metadata": {},
   "outputs": [
    {
     "data": {
      "text/html": [
       "<div>\n",
       "<style scoped>\n",
       "    .dataframe tbody tr th:only-of-type {\n",
       "        vertical-align: middle;\n",
       "    }\n",
       "\n",
       "    .dataframe tbody tr th {\n",
       "        vertical-align: top;\n",
       "    }\n",
       "\n",
       "    .dataframe thead th {\n",
       "        text-align: right;\n",
       "    }\n",
       "</style>\n",
       "<table border=\"1\" class=\"dataframe\">\n",
       "  <thead>\n",
       "    <tr style=\"text-align: right;\">\n",
       "      <th></th>\n",
       "      <th>Age</th>\n",
       "      <th>Marital status</th>\n",
       "      <th>Religious</th>\n",
       "      <th>Ethnicity</th>\n",
       "      <th>Faculty</th>\n",
       "      <th>level</th>\n",
       "      <th>Permanent residence</th>\n",
       "      <th>Family degree of breast cancer</th>\n",
       "      <th>Knowledge_Level</th>\n",
       "    </tr>\n",
       "  </thead>\n",
       "  <tbody>\n",
       "    <tr>\n",
       "      <th>0</th>\n",
       "      <td>22</td>\n",
       "      <td>Single</td>\n",
       "      <td>Muslim</td>\n",
       "      <td>Yoruba</td>\n",
       "      <td>Agriculture</td>\n",
       "      <td>300</td>\n",
       "      <td>Rural</td>\n",
       "      <td>No family history</td>\n",
       "      <td>Moderate</td>\n",
       "    </tr>\n",
       "    <tr>\n",
       "      <th>1</th>\n",
       "      <td>19</td>\n",
       "      <td>Single</td>\n",
       "      <td>Muslim</td>\n",
       "      <td>Yoruba</td>\n",
       "      <td>Agriculture</td>\n",
       "      <td>300</td>\n",
       "      <td>Urban</td>\n",
       "      <td>No family history</td>\n",
       "      <td>High</td>\n",
       "    </tr>\n",
       "    <tr>\n",
       "      <th>2</th>\n",
       "      <td>20</td>\n",
       "      <td>Single</td>\n",
       "      <td>Christian</td>\n",
       "      <td>Yoruba</td>\n",
       "      <td>Agriculture</td>\n",
       "      <td>200</td>\n",
       "      <td>Rural</td>\n",
       "      <td>No family history</td>\n",
       "      <td>Moderate</td>\n",
       "    </tr>\n",
       "    <tr>\n",
       "      <th>3</th>\n",
       "      <td>22</td>\n",
       "      <td>Others</td>\n",
       "      <td>Christian</td>\n",
       "      <td>Yoruba</td>\n",
       "      <td>Agriculture</td>\n",
       "      <td>300</td>\n",
       "      <td>Urban</td>\n",
       "      <td>No family history</td>\n",
       "      <td>Moderate</td>\n",
       "    </tr>\n",
       "    <tr>\n",
       "      <th>4</th>\n",
       "      <td>21</td>\n",
       "      <td>Single</td>\n",
       "      <td>Christian</td>\n",
       "      <td>Yoruba</td>\n",
       "      <td>Agriculture</td>\n",
       "      <td>300</td>\n",
       "      <td>Urban</td>\n",
       "      <td>No family history</td>\n",
       "      <td>Moderate</td>\n",
       "    </tr>\n",
       "  </tbody>\n",
       "</table>\n",
       "</div>"
      ],
      "text/plain": [
       "   Age Marital status   Religious Ethnicity      Faculty  level  \\\n",
       "0   22         Single      Muslim    Yoruba  Agriculture    300   \n",
       "1   19         Single      Muslim    Yoruba  Agriculture    300   \n",
       "2   20         Single   Christian    Yoruba  Agriculture    200   \n",
       "3   22         Others   Christian    Yoruba  Agriculture    300   \n",
       "4   21         Single   Christian    Yoruba  Agriculture    300   \n",
       "\n",
       "  Permanent residence Family degree of breast cancer Knowledge_Level  \n",
       "0               Rural              No family history        Moderate  \n",
       "1               Urban              No family history            High  \n",
       "2               Rural              No family history        Moderate  \n",
       "3               Urban              No family history        Moderate  \n",
       "4               Urban              No family history        Moderate  "
      ]
     },
     "execution_count": 28,
     "metadata": {},
     "output_type": "execute_result"
    }
   ],
   "source": [
    "combined_variables = pd.concat([sociodemographic_variables,overallknowledge['Knowledge_Level']],axis=1)\n",
    "combined_variables.head()\n"
   ]
  },
  {
   "cell_type": "markdown",
   "id": "d7ff2b7a-830d-4fc9-bb23-416f479eb454",
   "metadata": {},
   "source": [
    "calculating the chi_square to check significant association between two categorical variables."
   ]
  },
  {
   "cell_type": "code",
   "execution_count": 42,
   "id": "88bcfa3c-8a8f-4608-9d03-2397a7df7fa7",
   "metadata": {},
   "outputs": [],
   "source": [
    "from scipy.stats import chi2_contingency"
   ]
  },
  {
   "cell_type": "code",
   "execution_count": 44,
   "id": "89168694-8efa-42b3-a482-8814c480a630",
   "metadata": {},
   "outputs": [],
   "source": [
    "age_association = pd.crosstab(sociodemographic_variables['Age'], overallknowledge['Knowledge_Level'])\n",
    "chi2_age, p_age, dof_age, expected_age = chi2_contingency(age_association)"
   ]
  },
  {
   "cell_type": "code",
   "execution_count": 45,
   "id": "404056ee-c68d-45cb-afae-85a0cefa141d",
   "metadata": {},
   "outputs": [
    {
     "name": "stdout",
     "output_type": "stream",
     "text": [
      "Chi-square statistic: 12.956176693643577\n",
      "P-value: 0.794169861335636\n",
      "Degrees of freedom: 18\n",
      "Expected frequencies: \n",
      "[[ 0.45333333  0.13333333  1.41333333]\n",
      " [ 1.81333333  0.53333333  5.65333333]\n",
      " [ 4.76        1.4        14.84      ]\n",
      " [ 7.25333333  2.13333333 22.61333333]\n",
      " [ 7.02666667  2.06666667 21.90666667]\n",
      " [ 6.12        1.8        19.08      ]\n",
      " [ 3.62666667  1.06666667 11.30666667]\n",
      " [ 2.26666667  0.66666667  7.06666667]\n",
      " [ 0.22666667  0.06666667  0.70666667]\n",
      " [ 0.45333333  0.13333333  1.41333333]]\n"
     ]
    }
   ],
   "source": [
    "print(f\"Chi-Square results for Age:\")\n",
    "print(f\"Chi-square statistic: {chi2_age}\")\n",
    "print(f\"P-value: {p_age}\")\n",
    "print(f\"Degrees of freedom: {dof_age}\")\n",
    "print(f\"Expected frequencies: \\n{expected_age}\")"
   ]
  },
  {
   "cell_type": "code",
   "execution_count": 46,
   "id": "20b23cd0-aa69-4938-b4c0-e34684a13c8e",
   "metadata": {},
   "outputs": [
    {
     "name": "stdout",
     "output_type": "stream",
     "text": [
      "Fail to reject the null hypothesis: There is no significant relationship between the variables.\n"
     ]
    }
   ],
   "source": [
    "alpha = 0.05\n",
    "if p < alpha:\n",
    "    print(\"Reject the null hypothesis: There is a significant relationship between the variables.\")\n",
    "else:\n",
    "    print(\"Fail to reject the null hypothesis: There is no significant relationship between the variables.\")"
   ]
  },
  {
   "cell_type": "code",
   "execution_count": 47,
   "id": "3f068dfe-5f7e-4af9-b5d8-979989345822",
   "metadata": {},
   "outputs": [],
   "source": [
    "marital_status_association = pd.crosstab(sociodemographic_variables['Marital status'], overallknowledge['Knowledge_Level'])\n",
    "chi2_marital, p_marital, dof_marital, expected_marital = chi2_contingency(marital_status_association)"
   ]
  },
  {
   "cell_type": "code",
   "execution_count": 48,
   "id": "c0d5a77d-6c4c-4ec3-9bb6-428dff2f7298",
   "metadata": {},
   "outputs": [
    {
     "name": "stdout",
     "output_type": "stream",
     "text": [
      "Chi-Square results for Marital status:\n",
      "Chi-square statistic: 5.042571191294831\n",
      "P-value: 0.28295725173743835\n",
      "Degrees of freedom: 4\n",
      "Expected frequencies: \n",
      "[[  0.68         0.2          2.12      ]\n",
      " [  0.90666667   0.26666667   2.82666667]\n",
      " [ 32.41333333   9.53333333 101.05333333]]\n"
     ]
    }
   ],
   "source": [
    "print(f\"Chi-Square results for Marital status:\")\n",
    "print(f\"Chi-square statistic: {chi2_marital}\")\n",
    "print(f\"P-value: {p_marital}\")\n",
    "print(f\"Degrees of freedom: {dof_marital}\")\n",
    "print(f\"Expected frequencies: \\n{expected_marital}\")"
   ]
  },
  {
   "cell_type": "code",
   "execution_count": 49,
   "id": "81274c78-a4cc-4559-893a-036d2eed9f4f",
   "metadata": {},
   "outputs": [
    {
     "name": "stdout",
     "output_type": "stream",
     "text": [
      "Fail to reject the null hypothesis: There is no significant relationship between the variables.\n"
     ]
    }
   ],
   "source": [
    "alpha = 0.05\n",
    "if p < alpha:\n",
    "    print(\"Reject the null hypothesis: There is a significant relationship between the variables.\")\n",
    "else:\n",
    "    print(\"Fail to reject the null hypothesis: There is no significant relationship between the variables.\")"
   ]
  },
  {
   "cell_type": "code",
   "execution_count": 50,
   "id": "14f5fbd7-8346-4979-8b7e-fcda2f940453",
   "metadata": {},
   "outputs": [],
   "source": [
    "religious_association = pd.crosstab(sociodemographic_variables['Religious'], overallknowledge['Knowledge_Level'])\n",
    "chi2_religious, p_religious, dof_religious, expected_religious = chi2_contingency(religious_association)"
   ]
  },
  {
   "cell_type": "code",
   "execution_count": 51,
   "id": "a8b435eb-56e6-4e84-a988-ff34fcc64781",
   "metadata": {},
   "outputs": [
    {
     "name": "stdout",
     "output_type": "stream",
     "text": [
      "Chi-Square results for Religious:\n",
      "Chi-square statistic: 1.284642271439694\n",
      "P-value: 0.5260699261034831\n",
      "Degrees of freedom: 2\n",
      "Expected frequencies: \n",
      "[[30.37333333  8.93333333 94.69333333]\n",
      " [ 3.62666667  1.06666667 11.30666667]]\n"
     ]
    }
   ],
   "source": [
    "print(f\"Chi-Square results for Religious:\")\n",
    "print(f\"Chi-square statistic: {chi2_religious}\")\n",
    "print(f\"P-value: {p_religious}\")\n",
    "print(f\"Degrees of freedom: {dof_religious}\")\n",
    "print(f\"Expected frequencies: \\n{expected_religious}\")"
   ]
  },
  {
   "cell_type": "code",
   "execution_count": 52,
   "id": "ad262d3e-e29b-4855-a4a1-414894c4092c",
   "metadata": {},
   "outputs": [
    {
     "name": "stdout",
     "output_type": "stream",
     "text": [
      "Fail to reject the null hypothesis: There is no significant relationship between the variables.\n"
     ]
    }
   ],
   "source": [
    "alpha = 0.05\n",
    "if p < alpha:\n",
    "    print(\"Reject the null hypothesis: There is a significant relationship between the variables.\")\n",
    "else:\n",
    "    print(\"Fail to reject the null hypothesis: There is no significant relationship between the variables.\")"
   ]
  },
  {
   "cell_type": "code",
   "execution_count": 53,
   "id": "bb8d15d2-2e2b-41b6-8ef7-1f7272633881",
   "metadata": {},
   "outputs": [],
   "source": [
    "ethnicity_association = pd.crosstab(sociodemographic_variables['Ethnicity'], overallknowledge['Knowledge_Level'])\n",
    "chi2_ethnicity, p_ethnicity, dof_ethnicity, expected_ethnicity = chi2_contingency(ethnicity_association)"
   ]
  },
  {
   "cell_type": "code",
   "execution_count": 54,
   "id": "f3fc650f-c34b-4947-9f42-c2d70964742a",
   "metadata": {},
   "outputs": [
    {
     "name": "stdout",
     "output_type": "stream",
     "text": [
      "Chi-Square results for Ethnicity:\n",
      "Chi-square statistic: 7.089776791219632\n",
      "P-value: 0.3126244848253247\n",
      "Degrees of freedom: 6\n",
      "Expected frequencies: \n",
      "[[ 0.45333333  0.13333333  1.41333333]\n",
      " [ 1.58666667  0.46666667  4.94666667]\n",
      " [ 1.36        0.4         4.24      ]\n",
      " [30.6         9.         95.4       ]]\n"
     ]
    }
   ],
   "source": [
    "print(f\"Chi-Square results for Ethnicity:\")\n",
    "print(f\"Chi-square statistic: {chi2_ethnicity}\")\n",
    "print(f\"P-value: {p_ethnicity}\")\n",
    "print(f\"Degrees of freedom: {dof_ethnicity}\")\n",
    "print(f\"Expected frequencies: \\n{expected_ethnicity}\")"
   ]
  },
  {
   "cell_type": "code",
   "execution_count": 55,
   "id": "d108a0c7-ddcc-4696-813d-9cb85c7814c0",
   "metadata": {},
   "outputs": [
    {
     "name": "stdout",
     "output_type": "stream",
     "text": [
      "Fail to reject the null hypothesis: There is no significant relationship between the variables.\n",
      "\n"
     ]
    }
   ],
   "source": [
    "alpha = 0.05\n",
    "if p < alpha:\n",
    "    print(\"Reject the null hypothesis: There is a significant relationship between the variables.\")\n",
    "else:\n",
    "    print(\"Fail to reject the null hypothesis: There is no significant relationship between the variables.\")"
   ]
  },
  {
   "cell_type": "code",
   "execution_count": 56,
   "id": "4b921358-6853-4faf-a976-97a79180e2b9",
   "metadata": {},
   "outputs": [],
   "source": [
    "faculty_association = pd.crosstab(sociodemographic_variables['Faculty'], overallknowledge['Knowledge_Level'])\n",
    "chi2_faculty, p_faculty, dof_faculty, expected_faculty = chi2_contingency(faculty_association)"
   ]
  },
  {
   "cell_type": "code",
   "execution_count": 57,
   "id": "ec7460c2-288a-4c09-bb26-b142ecd9dfdc",
   "metadata": {},
   "outputs": [
    {
     "name": "stdout",
     "output_type": "stream",
     "text": [
      "Chi-Square results for Faculty:\n",
      "Chi-square statistic: 0.43844581857900367\n",
      "P-value: 0.8031426702366549\n",
      "Degrees of freedom: 2\n",
      "Expected frequencies: \n",
      "[[ 9.52  2.8  29.68]\n",
      " [24.48  7.2  76.32]]\n"
     ]
    }
   ],
   "source": [
    "print(f\"Chi-Square results for Faculty:\")\n",
    "print(f\"Chi-square statistic: {chi2_faculty}\")\n",
    "print(f\"P-value: {p_faculty}\")\n",
    "print(f\"Degrees of freedom: {dof_faculty}\")\n",
    "print(f\"Expected frequencies: \\n{expected_faculty}\")"
   ]
  },
  {
   "cell_type": "code",
   "execution_count": 58,
   "id": "4bf4cd6c-51b9-49a2-a5eb-d5fcdd81f8f0",
   "metadata": {},
   "outputs": [
    {
     "name": "stdout",
     "output_type": "stream",
     "text": [
      "Fail to reject the null hypothesis: There is no significant relationship between the variables.\n"
     ]
    }
   ],
   "source": [
    "alpha = 0.05\n",
    "if p < alpha:\n",
    "    print(\"Reject the null hypothesis: There is a significant relationship between the variables.\")\n",
    "else:\n",
    "    print(\"Fail to reject the null hypothesis: There is no significant relationship between the variables.\")"
   ]
  },
  {
   "cell_type": "code",
   "execution_count": 59,
   "id": "bcf471bb-9528-41e0-98ab-d7a25c1d7ea1",
   "metadata": {},
   "outputs": [],
   "source": [
    "residence_association = pd.crosstab(sociodemographic_variables['Permanent residence'], overallknowledge['Knowledge_Level'])\n",
    "chi2_residence, p_residence, dof_residence, expected_residence = chi2_contingency(residence_association)"
   ]
  },
  {
   "cell_type": "code",
   "execution_count": 60,
   "id": "21b6c807-26a1-43d2-bcc3-c75b4ee7ef4f",
   "metadata": {},
   "outputs": [
    {
     "name": "stdout",
     "output_type": "stream",
     "text": [
      "Chi-Square results for Permanent residence:\n",
      "Chi-square statistic: 0.23103187816006907\n",
      "P-value: 0.8909063718959433\n",
      "Degrees of freedom: 2\n",
      "Expected frequencies: \n",
      "[[12.24  3.6  38.16]\n",
      " [21.76  6.4  67.84]]\n"
     ]
    }
   ],
   "source": [
    "print(f\"Chi-Square results for Permanent residence:\")\n",
    "print(f\"Chi-square statistic: {chi2_residence}\")\n",
    "print(f\"P-value: {p_residence}\")\n",
    "print(f\"Degrees of freedom: {dof_residence}\")\n",
    "print(f\"Expected frequencies: \\n{expected_residence}\")"
   ]
  },
  {
   "cell_type": "code",
   "execution_count": 61,
   "id": "b5931e95-858b-47ad-bdf5-188ccfd6ce90",
   "metadata": {},
   "outputs": [
    {
     "name": "stdout",
     "output_type": "stream",
     "text": [
      "Fail to reject the null hypothesis: There is no significant relationship between the variables.\n"
     ]
    }
   ],
   "source": [
    "alpha = 0.05\n",
    "if p < alpha:\n",
    "    print(\"Reject the null hypothesis: There is a significant relationship between the variables.\")\n",
    "else:\n",
    "    print(\"Fail to reject the null hypothesis: There is no significant relationship between the variables.\")"
   ]
  },
  {
   "cell_type": "markdown",
   "id": "09267eda-ca2f-4cf2-9b54-1e979b16a6b1",
   "metadata": {},
   "source": [
    "counting knowledge level occurences"
   ]
  },
  {
   "cell_type": "code",
   "execution_count": 62,
   "id": "93a3eb1f-6e5e-49d8-9ded-15a6e95ca21a",
   "metadata": {},
   "outputs": [
    {
     "data": {
      "text/plain": [
       "Knowledge_Level\n",
       "Moderate    106\n",
       "High         34\n",
       "Low          10\n",
       "Name: count, dtype: int64"
      ]
     },
     "execution_count": 62,
     "metadata": {},
     "output_type": "execute_result"
    }
   ],
   "source": [
    "overall_knowledge_breastcancer_prevention=overallknowledge['Knowledge_Level'].value_counts()\n",
    "overall_knowledge_breastcancer_prevention"
   ]
  },
  {
   "cell_type": "markdown",
   "id": "14909e6d-5873-4078-9204-1b69e09307dd",
   "metadata": {},
   "source": [
    "Counting the participants knowledge distribution of breast cancer risk factors"
   ]
  },
  {
   "cell_type": "code",
   "execution_count": 63,
   "id": "85f3314f-546a-4916-af19-2cee7eada64d",
   "metadata": {},
   "outputs": [
    {
     "data": {
      "text/plain": [
       "Knowledge_level_of_breastcancer_risk_factors\n",
       "Poor       114\n",
       "Good        29\n",
       "Average      7\n",
       "Name: count, dtype: int64"
      ]
     },
     "execution_count": 63,
     "metadata": {},
     "output_type": "execute_result"
    }
   ],
   "source": [
    "breastcancer_riskfactors_counts=breast_cancer_knowledge_dependent['Knowledge_level_of_breastcancer_risk_factors'].value_counts()\n",
    "breastcancer_riskfactors_counts"
   ]
  },
  {
   "cell_type": "code",
   "execution_count": 65,
   "id": "4ee71ba3-ba8e-4485-9815-e59ae12f5fc7",
   "metadata": {},
   "outputs": [],
   "source": [
    "import matplotlib.pyplot as plt\n",
    "import seaborn as sns\n",
    "sns.set()"
   ]
  },
  {
   "cell_type": "code",
   "execution_count": 79,
   "id": "eaac9b03-4dfc-4adb-8039-3de2c8c97ada",
   "metadata": {},
   "outputs": [
    {
     "data": {
      "image/png": "[encoded data removed]",
      "text/plain": [
       "<Figure size 800x500 with 1 Axes>"
      ]
     },
     "metadata": {},
     "output_type": "display_data"
    }
   ],
   "source": [
    "plt.figure(figsize=(8, 5))\n",
    "overall_knowledge_breastcancer_prevention.plot(kind='bar', color='skyblue', edgecolor='none')\n",
    "plt.title('Overall Distribution of Knowledge Level on Breast Cancer Prevention', fontsize=14)\n",
    "plt.xlabel('Knowledge Level', fontsize=12)\n",
    "plt.ylabel('Number_of_Participants', fontsize=12)\n",
    "plt.xticks(rotation=0)\n",
    "sns.despine()\n",
    "plt.show()"
   ]
  },
  {
   "cell_type": "code",
   "execution_count": 83,
   "id": "50e453be-bb65-422a-9948-4e13667fb128",
   "metadata": {},
   "outputs": [
    {
     "data": {
      "image/png": "[encoded data removed]",
      "text/plain": [
       "<Figure size 1000x800 with 1 Axes>"
      ]
     },
     "metadata": {},
     "output_type": "display_data"
    }
   ],
   "source": [
    "plt.figure(figsize=(10, 8))\n",
    "breastcancer_riskfactors_counts.plot(kind='bar', color='midnightblue',edgecolor='blue')\n",
    "plt.title('knowledge Distribution of Breast Cancer Risk Factors')\n",
    "plt.xlabel('Knowledge_level_of_breastcancer_risk_factors')\n",
    "plt.ylabel('Number of Participants')\n",
    "plt.xticks(rotation=0)\n",
    "plt.grid(axis='y',linestyle='--', alpha=0.7)\n",
    "plt.show()"
   ]
  },
  {
   "cell_type": "markdown",
   "id": "ba609712-3190-4b73-a1f9-4a4df83a79d9",
   "metadata": {},
   "source": [
    "Conclusion The participants demonstrated overall moderate knowledge about breast cancer prevention, although their knowledge of the risk factors associated with breast cancer was relatively poor. Based on the Chi-square test results, with a p-value greater than 0.05, there is no statistically significant association between knowledge about breast cancer prevention and the factors tested (such as age, marital status, family history, etc.). Therefore, i fail to reject the null hypothesis, suggesting that these factors may not be strongly related to knowledge about breast cancer prevention in the population studied."
   ]
  }
 ],
 "metadata": {
  "kernelspec": {
   "display_name": "Python 3 (ipykernel)",
   "language": "python",
   "name": "python3"
  },
  "language_info": {
   "codemirror_mode": {
    "name": "ipython",
    "version": 3
   },
   "file_extension": ".py",
   "mimetype": "text/x-python",
   "name": "python",
   "nbconvert_exporter": "python",
   "pygments_lexer": "ipython3",
   "version": "3.11.7"
  }
 },
 "nbformat": 4,
 "nbformat_minor": 5
}
